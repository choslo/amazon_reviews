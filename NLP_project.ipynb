{
 "cells": [
  {
   "cell_type": "markdown",
   "metadata": {},
   "source": [
    "# NLP project"
   ]
  },
  {
   "cell_type": "code",
   "execution_count": 1,
   "metadata": {},
   "outputs": [],
   "source": [
    "import pandas as pd\n",
    "import os"
   ]
  },
  {
   "cell_type": "code",
   "execution_count": 58,
   "metadata": {},
   "outputs": [],
   "source": [
    "%matplotlib inline\n",
    "import matplotlib.pyplot as plt\n",
    "import numpy as np\n",
    "import seaborn as sns"
   ]
  },
  {
   "cell_type": "code",
   "execution_count": 2,
   "metadata": {},
   "outputs": [],
   "source": [
    "!python download_data.py"
   ]
  },
  {
   "cell_type": "code",
   "execution_count": 3,
   "metadata": {},
   "outputs": [],
   "source": [
    "data = pd.read_json(\"data/art.json.gz.zip\", lines= True, compression= \"gzip\")\n",
    "\n",
    "#pd.read_json(\"Arts_Crafts_and_Sewing_5.json\", lines= True)"
   ]
  },
  {
   "cell_type": "code",
   "execution_count": 4,
   "metadata": {},
   "outputs": [
    {
     "data": {
      "text/html": [
       "<div>\n",
       "<style scoped>\n",
       "    .dataframe tbody tr th:only-of-type {\n",
       "        vertical-align: middle;\n",
       "    }\n",
       "\n",
       "    .dataframe tbody tr th {\n",
       "        vertical-align: top;\n",
       "    }\n",
       "\n",
       "    .dataframe thead th {\n",
       "        text-align: right;\n",
       "    }\n",
       "</style>\n",
       "<table border=\"1\" class=\"dataframe\">\n",
       "  <thead>\n",
       "    <tr style=\"text-align: right;\">\n",
       "      <th></th>\n",
       "      <th>overall</th>\n",
       "      <th>verified</th>\n",
       "      <th>reviewTime</th>\n",
       "      <th>reviewerID</th>\n",
       "      <th>asin</th>\n",
       "      <th>style</th>\n",
       "      <th>reviewerName</th>\n",
       "      <th>reviewText</th>\n",
       "      <th>summary</th>\n",
       "      <th>unixReviewTime</th>\n",
       "      <th>vote</th>\n",
       "      <th>image</th>\n",
       "    </tr>\n",
       "  </thead>\n",
       "  <tbody>\n",
       "    <tr>\n",
       "      <td>0</td>\n",
       "      <td>4</td>\n",
       "      <td>True</td>\n",
       "      <td>03 29, 2016</td>\n",
       "      <td>AIE8N9U317ZBM</td>\n",
       "      <td>0449819906</td>\n",
       "      <td>{'Format:': ' Kindle Edition'}</td>\n",
       "      <td>Zelmira, Ph.D.</td>\n",
       "      <td>Contains some interesting stitches.</td>\n",
       "      <td>Four Stars</td>\n",
       "      <td>1459209600</td>\n",
       "      <td>NaN</td>\n",
       "      <td>NaN</td>\n",
       "    </tr>\n",
       "    <tr>\n",
       "      <td>1</td>\n",
       "      <td>5</td>\n",
       "      <td>True</td>\n",
       "      <td>08 12, 2015</td>\n",
       "      <td>A3ECOW0TWLH9V6</td>\n",
       "      <td>0449819906</td>\n",
       "      <td>{'Format:': ' Paperback'}</td>\n",
       "      <td>Dangerous when Cooking</td>\n",
       "      <td>I'm a fairly experienced knitter of the one-co...</td>\n",
       "      <td>My current favorite go-to guide for inspiration</td>\n",
       "      <td>1439337600</td>\n",
       "      <td>18</td>\n",
       "      <td>NaN</td>\n",
       "    </tr>\n",
       "    <tr>\n",
       "      <td>2</td>\n",
       "      <td>4</td>\n",
       "      <td>True</td>\n",
       "      <td>04 5, 2015</td>\n",
       "      <td>A278N8QX9TY2OS</td>\n",
       "      <td>0449819906</td>\n",
       "      <td>{'Format:': ' Paperback'}</td>\n",
       "      <td>Just us</td>\n",
       "      <td>Great book but the index is terrible. Had to w...</td>\n",
       "      <td>lots of great examples, good instructions, col...</td>\n",
       "      <td>1428192000</td>\n",
       "      <td>3</td>\n",
       "      <td>NaN</td>\n",
       "    </tr>\n",
       "    <tr>\n",
       "      <td>3</td>\n",
       "      <td>5</td>\n",
       "      <td>True</td>\n",
       "      <td>10 11, 2014</td>\n",
       "      <td>A123W8HIK76XCN</td>\n",
       "      <td>0449819906</td>\n",
       "      <td>{'Format:': ' Kindle Edition'}</td>\n",
       "      <td>Amazon Customer</td>\n",
       "      <td>I purchased the Kindle edition which is incred...</td>\n",
       "      <td>Another little gem by Melissa Leapman</td>\n",
       "      <td>1412985600</td>\n",
       "      <td>NaN</td>\n",
       "      <td>NaN</td>\n",
       "    </tr>\n",
       "    <tr>\n",
       "      <td>4</td>\n",
       "      <td>5</td>\n",
       "      <td>True</td>\n",
       "      <td>05 8, 2014</td>\n",
       "      <td>A2A6MZ2QB4AE0L</td>\n",
       "      <td>0449819906</td>\n",
       "      <td>{'Format:': ' Paperback'}</td>\n",
       "      <td>Sustainability</td>\n",
       "      <td>Very well laid out and very easy to read.\\n\\nT...</td>\n",
       "      <td>Very comprehensive</td>\n",
       "      <td>1399507200</td>\n",
       "      <td>NaN</td>\n",
       "      <td>NaN</td>\n",
       "    </tr>\n",
       "  </tbody>\n",
       "</table>\n",
       "</div>"
      ],
      "text/plain": [
       "   overall  verified   reviewTime      reviewerID        asin  \\\n",
       "0        4      True  03 29, 2016   AIE8N9U317ZBM  0449819906   \n",
       "1        5      True  08 12, 2015  A3ECOW0TWLH9V6  0449819906   \n",
       "2        4      True   04 5, 2015  A278N8QX9TY2OS  0449819906   \n",
       "3        5      True  10 11, 2014  A123W8HIK76XCN  0449819906   \n",
       "4        5      True   05 8, 2014  A2A6MZ2QB4AE0L  0449819906   \n",
       "\n",
       "                            style            reviewerName  \\\n",
       "0  {'Format:': ' Kindle Edition'}          Zelmira, Ph.D.   \n",
       "1       {'Format:': ' Paperback'}  Dangerous when Cooking   \n",
       "2       {'Format:': ' Paperback'}                 Just us   \n",
       "3  {'Format:': ' Kindle Edition'}         Amazon Customer   \n",
       "4       {'Format:': ' Paperback'}          Sustainability   \n",
       "\n",
       "                                          reviewText  \\\n",
       "0                Contains some interesting stitches.   \n",
       "1  I'm a fairly experienced knitter of the one-co...   \n",
       "2  Great book but the index is terrible. Had to w...   \n",
       "3  I purchased the Kindle edition which is incred...   \n",
       "4  Very well laid out and very easy to read.\\n\\nT...   \n",
       "\n",
       "                                             summary  unixReviewTime vote  \\\n",
       "0                                         Four Stars      1459209600  NaN   \n",
       "1    My current favorite go-to guide for inspiration      1439337600   18   \n",
       "2  lots of great examples, good instructions, col...      1428192000    3   \n",
       "3              Another little gem by Melissa Leapman      1412985600  NaN   \n",
       "4                                 Very comprehensive      1399507200  NaN   \n",
       "\n",
       "  image  \n",
       "0   NaN  \n",
       "1   NaN  \n",
       "2   NaN  \n",
       "3   NaN  \n",
       "4   NaN  "
      ]
     },
     "execution_count": 4,
     "metadata": {},
     "output_type": "execute_result"
    }
   ],
   "source": [
    "data.head(5)"
   ]
  },
  {
   "cell_type": "code",
   "execution_count": 40,
   "metadata": {},
   "outputs": [
    {
     "data": {
      "text/plain": [
       "(494485, 12)"
      ]
     },
     "execution_count": 40,
     "metadata": {},
     "output_type": "execute_result"
    }
   ],
   "source": [
    "data.shape"
   ]
  },
  {
   "cell_type": "code",
   "execution_count": 13,
   "metadata": {},
   "outputs": [
    {
     "data": {
      "text/plain": [
       "Index(['overall', 'verified', 'reviewTime', 'reviewerID', 'asin', 'style',\n",
       "       'reviewerName', 'reviewText', 'summary', 'unixReviewTime', 'vote',\n",
       "       'image'],\n",
       "      dtype='object')"
      ]
     },
     "execution_count": 13,
     "metadata": {},
     "output_type": "execute_result"
    }
   ],
   "source": [
    "data.columns"
   ]
  },
  {
   "cell_type": "code",
   "execution_count": 14,
   "metadata": {},
   "outputs": [
    {
     "data": {
      "text/plain": [
       "overall            int64\n",
       "verified            bool\n",
       "reviewTime        object\n",
       "reviewerID        object\n",
       "asin              object\n",
       "style             object\n",
       "reviewerName      object\n",
       "reviewText        object\n",
       "summary           object\n",
       "unixReviewTime     int64\n",
       "vote              object\n",
       "image             object\n",
       "dtype: object"
      ]
     },
     "execution_count": 14,
     "metadata": {},
     "output_type": "execute_result"
    }
   ],
   "source": [
    "data.dtypes"
   ]
  },
  {
   "cell_type": "code",
   "execution_count": null,
   "metadata": {},
   "outputs": [],
   "source": [
    "data['style'].nunique"
   ]
  },
  {
   "cell_type": "markdown",
   "metadata": {},
   "source": [
    "#### Let's focus on the `overall` variable, namely the ratings of the products"
   ]
  },
  {
   "cell_type": "code",
   "execution_count": 6,
   "metadata": {},
   "outputs": [
    {
     "data": {
      "text/plain": [
       "count    494485.000000\n",
       "mean          4.566852\n",
       "std           0.929987\n",
       "min           1.000000\n",
       "25%           5.000000\n",
       "50%           5.000000\n",
       "75%           5.000000\n",
       "max           5.000000\n",
       "Name: overall, dtype: float64"
      ]
     },
     "execution_count": 6,
     "metadata": {},
     "output_type": "execute_result"
    }
   ],
   "source": [
    "data.overall.describe()"
   ]
  },
  {
   "cell_type": "markdown",
   "metadata": {},
   "source": [
    "The distribution is highly concentrated on the right, with more than 75% of the sample with the value 5 (out of 5). Overall, people seem to be very satisfied with the products."
   ]
  },
  {
   "cell_type": "code",
   "execution_count": 12,
   "metadata": {},
   "outputs": [
    {
     "data": {
      "text/plain": [
       "array([4, 5, 2, 3, 1])"
      ]
     },
     "execution_count": 12,
     "metadata": {},
     "output_type": "execute_result"
    }
   ],
   "source": [
    "data.overall.unique()"
   ]
  },
  {
   "cell_type": "code",
   "execution_count": 10,
   "metadata": {},
   "outputs": [],
   "source": [
    "sns.set(palette=\"GnBu_d\")"
   ]
  },
  {
   "cell_type": "code",
   "execution_count": 212,
   "metadata": {},
   "outputs": [
    {
     "data": {
      "text/plain": [
       "Text(0.5, 1.0, 'Overall distribution')"
      ]
     },
     "execution_count": 212,
     "metadata": {},
     "output_type": "execute_result"
    },
    {
     "data": {
      "image/png": "[encoded data removed]",
      "text/plain": [
       "<Figure size 432x288 with 1 Axes>"
      ]
     },
     "metadata": {
      "needs_background": "light"
     },
     "output_type": "display_data"
    }
   ],
   "source": [
    "data.overall.hist(bins = 5)\n",
    "plt.title('Overall distribution')"
   ]
  },
  {
   "cell_type": "markdown",
   "metadata": {},
   "source": [
    "### Changing the type of some columns for exploratory work"
   ]
  },
  {
   "cell_type": "code",
   "execution_count": 16,
   "metadata": {},
   "outputs": [],
   "source": [
    "data['reviewTime'] = pd.to_datetime(data.reviewTime)"
   ]
  },
  {
   "cell_type": "code",
   "execution_count": 61,
   "metadata": {},
   "outputs": [
    {
     "data": {
      "text/plain": [
       "Text(0.5, 1.0, 'Period of the reviews ?')"
      ]
     },
     "execution_count": 61,
     "metadata": {},
     "output_type": "execute_result"
    },
    {
     "data": {
      "image/png": "[encoded data removed]",
      "text/plain": [
       "<Figure size 432x288 with 1 Axes>"
      ]
     },
     "metadata": {
      "needs_background": "light"
     },
     "output_type": "display_data"
    }
   ],
   "source": [
    "data.reviewTime.dt.year.value_counts(dropna=False).plot(kind='bar')\n",
    "plt.title(\"Period of the reviews ?\")"
   ]
  },
  {
   "cell_type": "code",
   "execution_count": 62,
   "metadata": {},
   "outputs": [
    {
     "data": {
      "text/plain": [
       "Text(0.5, 1.0, 'Is there a seasonality for the reviews ?')"
      ]
     },
     "execution_count": 62,
     "metadata": {},
     "output_type": "execute_result"
    },
    {
     "data": {
      "image/png": "[encoded data removed]",
      "text/plain": [
       "<Figure size 432x288 with 1 Axes>"
      ]
     },
     "metadata": {
      "needs_background": "light"
     },
     "output_type": "display_data"
    }
   ],
   "source": [
    "data.reviewTime.dt.month.value_counts(dropna=False).plot(kind='bar')\n",
    "plt.title('Is there a seasonality for the reviews ?')"
   ]
  },
  {
   "cell_type": "markdown",
   "metadata": {},
   "source": [
    "People comment throughout the year, there's no specific seasonal trend for client's behavior."
   ]
  },
  {
   "cell_type": "markdown",
   "metadata": {},
   "source": [
    "#### A closer look on the `vote` variable : will it be useful for our classification ?"
   ]
  },
  {
   "cell_type": "markdown",
   "metadata": {},
   "source": [
    "`Vote` variable : on Amazon website, the more votes a comment gets, the more it is useful for the community. One approach of our classification could be to analyse whether reviews with the highest votes are rather positive, neutral, negative ?  "
   ]
  },
  {
   "cell_type": "code",
   "execution_count": 31,
   "metadata": {},
   "outputs": [],
   "source": [
    "data['vote'] = pd.to_numeric(data['vote'], errors='coerce')"
   ]
  },
  {
   "cell_type": "code",
   "execution_count": 39,
   "metadata": {},
   "outputs": [
    {
     "data": {
      "text/plain": [
       "count    71007.000000\n",
       "mean         7.882800\n",
       "std         21.572504\n",
       "min          2.000000\n",
       "25%          2.000000\n",
       "50%          3.000000\n",
       "75%          7.000000\n",
       "max        903.000000\n",
       "Name: vote, dtype: float64"
      ]
     },
     "execution_count": 39,
     "metadata": {},
     "output_type": "execute_result"
    }
   ],
   "source": [
    "data.vote.describe()"
   ]
  },
  {
   "cell_type": "code",
   "execution_count": 53,
   "metadata": {},
   "outputs": [
    {
     "data": {
      "text/plain": [
       "count    15375.000000\n",
       "mean        24.584976\n",
       "std         42.252494\n",
       "min          8.000000\n",
       "25%         10.000000\n",
       "50%         13.000000\n",
       "75%         23.000000\n",
       "max        903.000000\n",
       "Name: vote, dtype: float64"
      ]
     },
     "execution_count": 53,
     "metadata": {},
     "output_type": "execute_result"
    }
   ],
   "source": [
    "data.vote[data.vote > 7].describe()"
   ]
  },
  {
   "cell_type": "code",
   "execution_count": 63,
   "metadata": {},
   "outputs": [
    {
     "data": {
      "text/plain": [
       "Text(0.5, 1.0, 'Votes distribution')"
      ]
     },
     "execution_count": 63,
     "metadata": {},
     "output_type": "execute_result"
    },
    {
     "data": {
      "image/png": "[encoded data removed]",
      "text/plain": [
       "<Figure size 432x288 with 1 Axes>"
      ]
     },
     "metadata": {
      "needs_background": "light"
     },
     "output_type": "display_data"
    }
   ],
   "source": [
    "data.vote.hist(range = (0,23), bins = 15)\n",
    "plt.title('Votes distribution')"
   ]
  },
  {
   "cell_type": "markdown",
   "metadata": {},
   "source": [
    "##### Let's look on the `style`variable. "
   ]
  },
  {
   "cell_type": "code",
   "execution_count": 215,
   "metadata": {},
   "outputs": [],
   "source": [
    "data['style'] = data['style'].astype(str)"
   ]
  },
  {
   "cell_type": "code",
   "execution_count": 216,
   "metadata": {},
   "outputs": [
    {
     "data": {
      "text/plain": [
       "18104"
      ]
     },
     "execution_count": 216,
     "metadata": {},
     "output_type": "execute_result"
    }
   ],
   "source": [
    "data['style'].nunique()"
   ]
  },
  {
   "cell_type": "code",
   "execution_count": 223,
   "metadata": {},
   "outputs": [
    {
     "data": {
      "text/plain": [
       "nan                                0.528532\n",
       "{'Size:': ' 1 Pack'}               0.030132\n",
       "{'Package Quantity:': ' 1'}        0.012993\n",
       "{'Color:': ' White'}               0.008298\n",
       "{'Color:': ' Original Version'}    0.008263\n",
       "Name: style, dtype: float64"
      ]
     },
     "execution_count": 223,
     "metadata": {},
     "output_type": "execute_result"
    }
   ],
   "source": [
    "data['style'].value_counts(normalize = True)[0:5]"
   ]
  },
  {
   "cell_type": "markdown",
   "metadata": {},
   "source": [
    "#### How many reviewers ? \n",
    "\n",
    "How many reviewers in this dataset ? Are people who give ratings more likely to be more active on the site ? "
   ]
  },
  {
   "cell_type": "code",
   "execution_count": 228,
   "metadata": {},
   "outputs": [
    {
     "data": {
      "text/plain": [
       "Amazon Customer                0.054989\n",
       "Kindle Customer                0.009285\n",
       "Linda                          0.001400\n",
       "Mary                           0.001135\n",
       "Karen                          0.001116\n",
       "                                 ...   \n",
       "Angelique hopeless romantic    0.000002\n",
       "Rbd                            0.000002\n",
       "AA888                          0.000002\n",
       "SoCalMom                       0.000002\n",
       "Groovyeli                      0.000002\n",
       "Name: reviewerName, Length: 45478, dtype: float64"
      ]
     },
     "execution_count": 228,
     "metadata": {},
     "output_type": "execute_result"
    }
   ],
   "source": [
    "data.reviewerName.value_counts(normalize = True)"
   ]
  },
  {
   "cell_type": "code",
   "execution_count": 231,
   "metadata": {},
   "outputs": [
    {
     "name": "stdout",
     "output_type": "stream",
     "text": [
      "Percentage of unique reviewers 0.09197043388575993\n"
     ]
    }
   ],
   "source": [
    "print('Percentage of unique reviewers', data.reviewerName.nunique()/len(data.reviewerName))"
   ]
  },
  {
   "cell_type": "markdown",
   "metadata": {},
   "source": [
    "Only 10% of recurrent clients : the dataset is rather diverse."
   ]
  },
  {
   "cell_type": "code",
   "execution_count": 232,
   "metadata": {},
   "outputs": [
    {
     "name": "stdout",
     "output_type": "stream",
     "text": [
      "Percentage of unique IDs 0.11367382225952254\n"
     ]
    }
   ],
   "source": [
    "# Difference between reviewerId and reviewerName ? \n",
    "\n",
    "print('Percentage of unique IDs', data.reviewerID.nunique()/len(data.reviewerID))\n"
   ]
  },
  {
   "cell_type": "markdown",
   "metadata": {},
   "source": [
    "*There's a slight difference between both variables (`reviewerID` and `reviewerName`) but the outcome stays the same: approximately 10% of recurrent customers.*"
   ]
  },
  {
   "cell_type": "markdown",
   "metadata": {},
   "source": [
    "#### A closer look on the variable `image`"
   ]
  },
  {
   "cell_type": "code",
   "execution_count": 163,
   "metadata": {},
   "outputs": [],
   "source": [
    "data.image = data.image.astype('str')"
   ]
  },
  {
   "cell_type": "code",
   "execution_count": 166,
   "metadata": {},
   "outputs": [
    {
     "data": {
      "text/plain": [
       "array(['nan',\n",
       "       \"['https://images-na.ssl-images-amazon.com/images/I/51zwvBnXUUL._SY88.jpg', 'https://images-na.ssl-images-amazon.com/images/I/51-LYgXa3IL._SY88.jpg', 'https://images-na.ssl-images-amazon.com/images/I/61P4n-DuUHL._SY88.jpg']\",\n",
       "       \"['https://images-na.ssl-images-amazon.com/images/I/81IYFXKk9nL._SY88.jpg']\",\n",
       "       ...,\n",
       "       \"['https://images-na.ssl-images-amazon.com/images/I/81TIuYvYT3L._SY88.jpg']\",\n",
       "       \"['https://images-na.ssl-images-amazon.com/images/I/81AO6zm4TLL._SY88.jpg']\",\n",
       "       \"['https://images-na.ssl-images-amazon.com/images/I/810mLrCLwcL._SY88.jpg', 'https://images-na.ssl-images-amazon.com/images/I/71jlu07nvQL._SY88.jpg', 'https://images-na.ssl-images-amazon.com/images/I/815BNwkS0ZL._SY88.jpg', 'https://images-na.ssl-images-amazon.com/images/I/71ixu6Ied4L._SY88.jpg']\"],\n",
       "      dtype=object)"
      ]
     },
     "execution_count": 166,
     "metadata": {},
     "output_type": "execute_result"
    }
   ],
   "source": [
    "data.image.unique()"
   ]
  },
  {
   "cell_type": "markdown",
   "metadata": {},
   "source": [
    "One lead for this variable would be to drive a parallel : do books with images have better comments ? \n",
    "Let's create a new `binary variable` (yes / no), such as yes is assigned if the comment is linked to a posting with a book, and no if the comment has no book image to support its rating."
   ]
  },
  {
   "cell_type": "code",
   "execution_count": 178,
   "metadata": {},
   "outputs": [
    {
     "data": {
      "text/plain": [
       "9344"
      ]
     },
     "execution_count": 178,
     "metadata": {},
     "output_type": "execute_result"
    }
   ],
   "source": [
    "data.image.nunique()"
   ]
  },
  {
   "cell_type": "markdown",
   "metadata": {},
   "source": [
    "The `image` variable may help us know how many different items were reviewed, and consider how many reviews there are per item. However let's check how many missing values there are too. If the number is too high, some exploratory work on this variable could be biased."
   ]
  },
  {
   "cell_type": "code",
   "execution_count": 179,
   "metadata": {},
   "outputs": [
    {
     "data": {
      "text/plain": [
       "nan                                                                                                                                                                                                                                                                                                         0.978181\n",
       "['https://images-na.ssl-images-amazon.com/images/I/61ner9BnsNL._SY88.jpg']                                                                                                                                                                                                                                  0.000020\n",
       "['https://images-na.ssl-images-amazon.com/images/I/51K3XGymdgL._SY88.jpg']                                                                                                                                                                                                                                  0.000014\n",
       "['https://images-na.ssl-images-amazon.com/images/I/81nAYHh40IL._SY88.jpg']                                                                                                                                                                                                                                  0.000014\n",
       "['https://images-na.ssl-images-amazon.com/images/I/715o7YxHfhL._SY88.jpg']                                                                                                                                                                                                                                  0.000014\n",
       "                                                                                                                                                                                                                                                                                                              ...   \n",
       "['https://images-na.ssl-images-amazon.com/images/I/81UfMAcQwmL._SY88.jpg', 'https://images-na.ssl-images-amazon.com/images/I/81sKW9yTgdL._SY88.jpg', 'https://images-na.ssl-images-amazon.com/images/I/716ZMvRmaqL._SY88.jpg', 'https://images-na.ssl-images-amazon.com/images/I/71BO9Z6Sk6L._SY88.jpg']    0.000002\n",
       "['https://images-na.ssl-images-amazon.com/images/I/71wxlKimEwL._SY88.jpg']                                                                                                                                                                                                                                  0.000002\n",
       "['https://images-na.ssl-images-amazon.com/images/I/71At89+a7dL._SY88.jpg', 'https://images-na.ssl-images-amazon.com/images/I/71nbMTGdw4L._SY88.jpg', 'https://images-na.ssl-images-amazon.com/images/I/81Xc2OmsdFL._SY88.jpg']                                                                              0.000002\n",
       "['https://images-na.ssl-images-amazon.com/images/I/51WW3Lhn+JL._SY88.jpg', 'https://images-na.ssl-images-amazon.com/images/I/51640jveB6L._SY88.jpg', 'https://images-na.ssl-images-amazon.com/images/I/41I76jKD45L._SY88.jpg']                                                                              0.000002\n",
       "['https://images-na.ssl-images-amazon.com/images/I/71PFe7pmAGL._SY88.jpg']                                                                                                                                                                                                                                  0.000002\n",
       "Name: image, Length: 9344, dtype: float64"
      ]
     },
     "execution_count": 179,
     "metadata": {},
     "output_type": "execute_result"
    }
   ],
   "source": [
    "data.image.value_counts(normalize = True)"
   ]
  },
  {
   "cell_type": "markdown",
   "metadata": {},
   "source": [
    "More than 97% of missing data, there's no point in considering this variable."
   ]
  },
  {
   "cell_type": "markdown",
   "metadata": {},
   "source": [
    "## Dealing with the text variables : `reviewText` and `summary`"
   ]
  },
  {
   "cell_type": "code",
   "execution_count": 38,
   "metadata": {},
   "outputs": [
    {
     "data": {
      "text/plain": [
       "0                       Contains some interesting stitches.\n",
       "1         I'm a fairly experienced knitter of the one-co...\n",
       "2         Great book but the index is terrible. Had to w...\n",
       "3         I purchased the Kindle edition which is incred...\n",
       "4         Very well laid out and very easy to read.\\n\\nT...\n",
       "                                ...                        \n",
       "494480    What's not to love? The price. Watercolor pens...\n",
       "494481                       lots of color in these markers\n",
       "494482    These are really fun to use. I love watercolor...\n",
       "494483    While the box says vibrant colors, only a few ...\n",
       "494484    Core is very hard and does not transfer color ...\n",
       "Name: reviewText, Length: 494485, dtype: object"
      ]
     },
     "execution_count": 38,
     "metadata": {},
     "output_type": "execute_result"
    }
   ],
   "source": [
    "data.reviewText.astype(str)"
   ]
  },
  {
   "cell_type": "code",
   "execution_count": 64,
   "metadata": {},
   "outputs": [
    {
     "data": {
      "text/plain": [
       "0                                                Four Stars\n",
       "1           My current favorite go-to guide for inspiration\n",
       "2         lots of great examples, good instructions, col...\n",
       "3                     Another little gem by Melissa Leapman\n",
       "4                                        Very comprehensive\n",
       "                                ...                        \n",
       "494480                                           Four Stars\n",
       "494481                                           Five Stars\n",
       "494482                            Very cool watercolor pens\n",
       "494483             So little pigment the color barely shows\n",
       "494484    Color on paper is not very saturated due to ha...\n",
       "Name: summary, Length: 494485, dtype: object"
      ]
     },
     "execution_count": 64,
     "metadata": {},
     "output_type": "execute_result"
    }
   ],
   "source": [
    "data.summary.astype(str)"
   ]
  },
  {
   "cell_type": "code",
   "execution_count": 71,
   "metadata": {},
   "outputs": [
    {
     "name": "stdout",
     "output_type": "stream",
     "text": [
      "the % of non-missing values for the reviewText column :  0.9994155535557195\n",
      "the % of non-missing values for the summary column :  0.9997512563576246\n"
     ]
    }
   ],
   "source": [
    "print('the % of non-missing values for the reviewText column : ', \n",
    "      data.reviewText.count()/len(data.reviewText))\n",
    "print('the % of non-missing values for the summary column : ', \n",
    "      data.summary.count()/len(data.summary))"
   ]
  },
  {
   "cell_type": "markdown",
   "metadata": {},
   "source": [
    "There is almost no missing data for our text columns."
   ]
  },
  {
   "cell_type": "code",
   "execution_count": 75,
   "metadata": {},
   "outputs": [
    {
     "name": "stdout",
     "output_type": "stream",
     "text": [
      "Very comprehensive Very well laid out and very easy to read.\n",
      "\n",
      "This book is also a nice size, not too big, but larger enough to use and see what is being presented.\n",
      "Fair price for the product.\n"
     ]
    }
   ],
   "source": [
    "print(data.summary[4], data.reviewText[4])"
   ]
  },
  {
   "cell_type": "markdown",
   "metadata": {},
   "source": [
    "The `summary`variable resumes the comment of the user. "
   ]
  },
  {
   "cell_type": "markdown",
   "metadata": {},
   "source": [
    "### Tokenization and descriptive statistics"
   ]
  },
  {
   "cell_type": "code",
   "execution_count": 88,
   "metadata": {},
   "outputs": [],
   "source": [
    "from collections import Counter\n",
    "from nltk.tokenize import TreebankWordTokenizer\n",
    "from operator import add\n",
    "from functools import reduce"
   ]
  },
  {
   "cell_type": "code",
   "execution_count": 233,
   "metadata": {},
   "outputs": [],
   "source": [
    "data.summary = data.summary.astype(str)\n",
    "data.reviewText = data.reviewText.astype(str)"
   ]
  },
  {
   "cell_type": "code",
   "execution_count": 187,
   "metadata": {},
   "outputs": [
    {
     "name": "stdout",
     "output_type": "stream",
     "text": [
      "Le %  de summary distincts :  0.39604436939442045\n",
      "Le nombre de summary dans le dataset :  494485\n"
     ]
    }
   ],
   "source": [
    "print('Le %  de summary distincts : ', len(data.summary.unique())/len(data.summary))\n",
    "print('Le nombre de summary dans le dataset : ', len(data.summary))"
   ]
  },
  {
   "cell_type": "code",
   "execution_count": 182,
   "metadata": {},
   "outputs": [
    {
     "name": "stdout",
     "output_type": "stream",
     "text": [
      "Nombre moyen de caractères dans reviewText :  195.15210394530507\n",
      "Nombre moyen de caractères dans summary  32.80974070405131\n"
     ]
    }
   ],
   "source": [
    "print('Nombre moyen de caractères dans reviewText : ', data.reviewText.drop_duplicates().apply(len).mean())\n",
    "print('Nombre moyen de caractères dans summary ', data.summary.drop_duplicates().apply(len).mean() )"
   ]
  },
  {
   "cell_type": "code",
   "execution_count": 191,
   "metadata": {},
   "outputs": [
    {
     "data": {
      "text/plain": [
       "Text(0.5, 1.0, \"Distribution of characters' length for summary variable\")"
      ]
     },
     "execution_count": 191,
     "metadata": {},
     "output_type": "execute_result"
    },
    {
     "data": {
      "image/png": "[encoded data removed]",
      "text/plain": [
       "<Figure size 432x288 with 1 Axes>"
      ]
     },
     "metadata": {
      "needs_background": "light"
     },
     "output_type": "display_data"
    }
   ],
   "source": [
    "data.summary.drop_duplicates().apply(len).hist(bins = 40)\n",
    "plt.title(\"Distribution of characters' length for summary variable\")"
   ]
  },
  {
   "cell_type": "code",
   "execution_count": 211,
   "metadata": {},
   "outputs": [
    {
     "name": "stdout",
     "output_type": "stream",
     "text": [
      "count    195838.000000\n",
      "mean         32.809741\n",
      "std          19.804580\n",
      "min           1.000000\n",
      "25%          18.000000\n",
      "50%          28.000000\n",
      "75%          43.000000\n",
      "max         227.000000\n",
      "Name: summary, dtype: float64\n",
      "------------------------------------------------\n",
      "count    352647.000000\n",
      "mean        195.152104\n",
      "std         323.523182\n",
      "min           1.000000\n",
      "25%          48.000000\n",
      "50%         108.000000\n",
      "75%         215.000000\n",
      "max       19323.000000\n",
      "Name: reviewText, dtype: float64\n",
      "------------------------------------------------\n"
     ]
    },
    {
     "data": {
      "image/png": "[encoded data removed]",
      "text/plain": [
       "<Figure size 432x288 with 1 Axes>"
      ]
     },
     "metadata": {
      "needs_background": "light"
     },
     "output_type": "display_data"
    },
    {
     "data": {
      "image/png": "[encoded data removed]",
      "text/plain": [
       "<Figure size 432x288 with 1 Axes>"
      ]
     },
     "metadata": {
      "needs_background": "light"
     },
     "output_type": "display_data"
    }
   ],
   "source": [
    "text = ('summary', 'reviewText')\n",
    "for i in text: \n",
    "    plt.figure()\n",
    "    plt.title(\"distribution of characters for {0}\".format(i))\n",
    "    data[i].drop_duplicates().apply(len).hist(bins = 50, range=(0,500))\n",
    "    plt.plot()\n",
    "    print(data[i].drop_duplicates().apply(len).describe())\n",
    "    print('------------------------------------------------')\n"
   ]
  },
  {
   "cell_type": "markdown",
   "metadata": {},
   "source": [
    "**Let's focus on the `summary` variable first**"
   ]
  },
  {
   "cell_type": "code",
   "execution_count": 90,
   "metadata": {},
   "outputs": [],
   "source": [
    "arr = data.summary.drop_duplicates().apply(lambda x: TreebankWordTokenizer().tokenize(x)).array\n",
    "#arr = reduce(add, arr)"
   ]
  },
  {
   "cell_type": "code",
   "execution_count": 141,
   "metadata": {},
   "outputs": [],
   "source": [
    "test = reduce (add, arr[0:1000])"
   ]
  },
  {
   "cell_type": "code",
   "execution_count": 260,
   "metadata": {},
   "outputs": [
    {
     "name": "stdout",
     "output_type": "stream",
     "text": [
      "number of unique words in the first 1000 summaries :  1599\n"
     ]
    }
   ],
   "source": [
    "print('number of unique words in the first 1000 summaries : ', len(set(test)))"
   ]
  },
  {
   "cell_type": "code",
   "execution_count": 157,
   "metadata": {},
   "outputs": [
    {
     "data": {
      "text/html": [
       "<div>\n",
       "<style scoped>\n",
       "    .dataframe tbody tr th:only-of-type {\n",
       "        vertical-align: middle;\n",
       "    }\n",
       "\n",
       "    .dataframe tbody tr th {\n",
       "        vertical-align: top;\n",
       "    }\n",
       "\n",
       "    .dataframe thead th {\n",
       "        text-align: right;\n",
       "    }\n",
       "</style>\n",
       "<table border=\"1\" class=\"dataframe\">\n",
       "  <thead>\n",
       "    <tr style=\"text-align: right;\">\n",
       "      <th></th>\n",
       "      <th>word</th>\n",
       "      <th>occurences</th>\n",
       "      <th>freq</th>\n",
       "    </tr>\n",
       "  </thead>\n",
       "  <tbody>\n",
       "    <tr>\n",
       "      <td>36</td>\n",
       "      <td>!</td>\n",
       "      <td>218</td>\n",
       "      <td>0.036831</td>\n",
       "    </tr>\n",
       "    <tr>\n",
       "      <td>7</td>\n",
       "      <td>for</td>\n",
       "      <td>151</td>\n",
       "      <td>0.025511</td>\n",
       "    </tr>\n",
       "    <tr>\n",
       "      <td>46</td>\n",
       "      <td>the</td>\n",
       "      <td>132</td>\n",
       "      <td>0.022301</td>\n",
       "    </tr>\n",
       "    <tr>\n",
       "      <td>60</td>\n",
       "      <td>and</td>\n",
       "      <td>118</td>\n",
       "      <td>0.019936</td>\n",
       "    </tr>\n",
       "    <tr>\n",
       "      <td>88</td>\n",
       "      <td>I</td>\n",
       "      <td>114</td>\n",
       "      <td>0.019260</td>\n",
       "    </tr>\n",
       "    <tr>\n",
       "      <td>26</td>\n",
       "      <td>Great</td>\n",
       "      <td>107</td>\n",
       "      <td>0.018077</td>\n",
       "    </tr>\n",
       "    <tr>\n",
       "      <td>71</td>\n",
       "      <td>.</td>\n",
       "      <td>105</td>\n",
       "      <td>0.017739</td>\n",
       "    </tr>\n",
       "    <tr>\n",
       "      <td>70</td>\n",
       "      <td>...</td>\n",
       "      <td>98</td>\n",
       "      <td>0.016557</td>\n",
       "    </tr>\n",
       "    <tr>\n",
       "      <td>13</td>\n",
       "      <td>,</td>\n",
       "      <td>95</td>\n",
       "      <td>0.016050</td>\n",
       "    </tr>\n",
       "    <tr>\n",
       "      <td>57</td>\n",
       "      <td>a</td>\n",
       "      <td>93</td>\n",
       "      <td>0.015712</td>\n",
       "    </tr>\n",
       "    <tr>\n",
       "      <td>28</td>\n",
       "      <td>to</td>\n",
       "      <td>88</td>\n",
       "      <td>0.014867</td>\n",
       "    </tr>\n",
       "    <tr>\n",
       "      <td>261</td>\n",
       "      <td>set</td>\n",
       "      <td>88</td>\n",
       "      <td>0.014867</td>\n",
       "    </tr>\n",
       "    <tr>\n",
       "      <td>10</td>\n",
       "      <td>of</td>\n",
       "      <td>61</td>\n",
       "      <td>0.010306</td>\n",
       "    </tr>\n",
       "    <tr>\n",
       "      <td>69</td>\n",
       "      <td>this</td>\n",
       "      <td>60</td>\n",
       "      <td>0.010137</td>\n",
       "    </tr>\n",
       "    <tr>\n",
       "      <td>14</td>\n",
       "      <td>good</td>\n",
       "      <td>58</td>\n",
       "      <td>0.009799</td>\n",
       "    </tr>\n",
       "    <tr>\n",
       "      <td>101</td>\n",
       "      <td>it</td>\n",
       "      <td>57</td>\n",
       "      <td>0.009630</td>\n",
       "    </tr>\n",
       "    <tr>\n",
       "      <td>11</td>\n",
       "      <td>great</td>\n",
       "      <td>52</td>\n",
       "      <td>0.008785</td>\n",
       "    </tr>\n",
       "    <tr>\n",
       "      <td>151</td>\n",
       "      <td>Good</td>\n",
       "      <td>49</td>\n",
       "      <td>0.008278</td>\n",
       "    </tr>\n",
       "    <tr>\n",
       "      <td>191</td>\n",
       "      <td>but</td>\n",
       "      <td>43</td>\n",
       "      <td>0.007265</td>\n",
       "    </tr>\n",
       "    <tr>\n",
       "      <td>45</td>\n",
       "      <td>is</td>\n",
       "      <td>43</td>\n",
       "      <td>0.007265</td>\n",
       "    </tr>\n",
       "    <tr>\n",
       "      <td>49</td>\n",
       "      <td>in</td>\n",
       "      <td>40</td>\n",
       "      <td>0.006758</td>\n",
       "    </tr>\n",
       "    <tr>\n",
       "      <td>34</td>\n",
       "      <td>book</td>\n",
       "      <td>40</td>\n",
       "      <td>0.006758</td>\n",
       "    </tr>\n",
       "    <tr>\n",
       "      <td>234</td>\n",
       "      <td>with</td>\n",
       "      <td>40</td>\n",
       "      <td>0.006758</td>\n",
       "    </tr>\n",
       "    <tr>\n",
       "      <td>267</td>\n",
       "      <td>nice</td>\n",
       "      <td>35</td>\n",
       "      <td>0.005913</td>\n",
       "    </tr>\n",
       "    <tr>\n",
       "      <td>260</td>\n",
       "      <td>Nice</td>\n",
       "      <td>34</td>\n",
       "      <td>0.005744</td>\n",
       "    </tr>\n",
       "    <tr>\n",
       "      <td>38</td>\n",
       "      <td>my</td>\n",
       "      <td>33</td>\n",
       "      <td>0.005575</td>\n",
       "    </tr>\n",
       "    <tr>\n",
       "      <td>221</td>\n",
       "      <td>love</td>\n",
       "      <td>32</td>\n",
       "      <td>0.005406</td>\n",
       "    </tr>\n",
       "    <tr>\n",
       "      <td>24</td>\n",
       "      <td>Very</td>\n",
       "      <td>32</td>\n",
       "      <td>0.005406</td>\n",
       "    </tr>\n",
       "    <tr>\n",
       "      <td>308</td>\n",
       "      <td>tool</td>\n",
       "      <td>30</td>\n",
       "      <td>0.005068</td>\n",
       "    </tr>\n",
       "    <tr>\n",
       "      <td>413</td>\n",
       "      <td>not</td>\n",
       "      <td>29</td>\n",
       "      <td>0.004899</td>\n",
       "    </tr>\n",
       "    <tr>\n",
       "      <td>544</td>\n",
       "      <td>quality</td>\n",
       "      <td>28</td>\n",
       "      <td>0.004731</td>\n",
       "    </tr>\n",
       "    <tr>\n",
       "      <td>149</td>\n",
       "      <td>as</td>\n",
       "      <td>28</td>\n",
       "      <td>0.004731</td>\n",
       "    </tr>\n",
       "    <tr>\n",
       "      <td>185</td>\n",
       "      <td>are</td>\n",
       "      <td>27</td>\n",
       "      <td>0.004562</td>\n",
       "    </tr>\n",
       "    <tr>\n",
       "      <td>204</td>\n",
       "      <td>Love</td>\n",
       "      <td>27</td>\n",
       "      <td>0.004562</td>\n",
       "    </tr>\n",
       "    <tr>\n",
       "      <td>475</td>\n",
       "      <td>colors</td>\n",
       "      <td>26</td>\n",
       "      <td>0.004393</td>\n",
       "    </tr>\n",
       "    <tr>\n",
       "      <td>16</td>\n",
       "      <td>color</td>\n",
       "      <td>25</td>\n",
       "      <td>0.004224</td>\n",
       "    </tr>\n",
       "    <tr>\n",
       "      <td>241</td>\n",
       "      <td>n't</td>\n",
       "      <td>24</td>\n",
       "      <td>0.004055</td>\n",
       "    </tr>\n",
       "    <tr>\n",
       "      <td>769</td>\n",
       "      <td>was</td>\n",
       "      <td>22</td>\n",
       "      <td>0.003717</td>\n",
       "    </tr>\n",
       "    <tr>\n",
       "      <td>402</td>\n",
       "      <td>very</td>\n",
       "      <td>22</td>\n",
       "      <td>0.003717</td>\n",
       "    </tr>\n",
       "    <tr>\n",
       "      <td>33</td>\n",
       "      <td>on</td>\n",
       "      <td>22</td>\n",
       "      <td>0.003717</td>\n",
       "    </tr>\n",
       "    <tr>\n",
       "      <td>19</td>\n",
       "      <td>little</td>\n",
       "      <td>22</td>\n",
       "      <td>0.003717</td>\n",
       "    </tr>\n",
       "    <tr>\n",
       "      <td>513</td>\n",
       "      <td>Perfect</td>\n",
       "      <td>22</td>\n",
       "      <td>0.003717</td>\n",
       "    </tr>\n",
       "    <tr>\n",
       "      <td>263</td>\n",
       "      <td>A</td>\n",
       "      <td>22</td>\n",
       "      <td>0.003717</td>\n",
       "    </tr>\n",
       "    <tr>\n",
       "      <td>35</td>\n",
       "      <td>Excellent</td>\n",
       "      <td>21</td>\n",
       "      <td>0.003548</td>\n",
       "    </tr>\n",
       "    <tr>\n",
       "      <td>100</td>\n",
       "      <td>like</td>\n",
       "      <td>21</td>\n",
       "      <td>0.003548</td>\n",
       "    </tr>\n",
       "    <tr>\n",
       "      <td>249</td>\n",
       "      <td>have</td>\n",
       "      <td>20</td>\n",
       "      <td>0.003379</td>\n",
       "    </tr>\n",
       "    <tr>\n",
       "      <td>122</td>\n",
       "      <td>The</td>\n",
       "      <td>19</td>\n",
       "      <td>0.003210</td>\n",
       "    </tr>\n",
       "    <tr>\n",
       "      <td>290</td>\n",
       "      <td>It</td>\n",
       "      <td>19</td>\n",
       "      <td>0.003210</td>\n",
       "    </tr>\n",
       "    <tr>\n",
       "      <td>148</td>\n",
       "      <td>use</td>\n",
       "      <td>19</td>\n",
       "      <td>0.003210</td>\n",
       "    </tr>\n",
       "    <tr>\n",
       "      <td>963</td>\n",
       "      <td>paints</td>\n",
       "      <td>19</td>\n",
       "      <td>0.003210</td>\n",
       "    </tr>\n",
       "  </tbody>\n",
       "</table>\n",
       "</div>"
      ],
      "text/plain": [
       "          word  occurences      freq\n",
       "36           !         218  0.036831\n",
       "7          for         151  0.025511\n",
       "46         the         132  0.022301\n",
       "60         and         118  0.019936\n",
       "88           I         114  0.019260\n",
       "26       Great         107  0.018077\n",
       "71           .         105  0.017739\n",
       "70         ...          98  0.016557\n",
       "13           ,          95  0.016050\n",
       "57           a          93  0.015712\n",
       "28          to          88  0.014867\n",
       "261        set          88  0.014867\n",
       "10          of          61  0.010306\n",
       "69        this          60  0.010137\n",
       "14        good          58  0.009799\n",
       "101         it          57  0.009630\n",
       "11       great          52  0.008785\n",
       "151       Good          49  0.008278\n",
       "191        but          43  0.007265\n",
       "45          is          43  0.007265\n",
       "49          in          40  0.006758\n",
       "34        book          40  0.006758\n",
       "234       with          40  0.006758\n",
       "267       nice          35  0.005913\n",
       "260       Nice          34  0.005744\n",
       "38          my          33  0.005575\n",
       "221       love          32  0.005406\n",
       "24        Very          32  0.005406\n",
       "308       tool          30  0.005068\n",
       "413        not          29  0.004899\n",
       "544    quality          28  0.004731\n",
       "149         as          28  0.004731\n",
       "185        are          27  0.004562\n",
       "204       Love          27  0.004562\n",
       "475     colors          26  0.004393\n",
       "16       color          25  0.004224\n",
       "241        n't          24  0.004055\n",
       "769        was          22  0.003717\n",
       "402       very          22  0.003717\n",
       "33          on          22  0.003717\n",
       "19      little          22  0.003717\n",
       "513    Perfect          22  0.003717\n",
       "263          A          22  0.003717\n",
       "35   Excellent          21  0.003548\n",
       "100       like          21  0.003548\n",
       "249       have          20  0.003379\n",
       "122        The          19  0.003210\n",
       "290         It          19  0.003210\n",
       "148        use          19  0.003210\n",
       "963     paints          19  0.003210"
      ]
     },
     "execution_count": 157,
     "metadata": {},
     "output_type": "execute_result"
    }
   ],
   "source": [
    "from collections import Counter\n",
    "c = Counter(test)\n",
    "df_freq = pd.DataFrame(c, index = ['Occurences']).transpose().reset_index()\n",
    "df_freq.columns = ['word', 'occurences']\n",
    "nb_total = df_freq.occurences.sum()\n",
    "df_freq['freq'] = df_freq.occurences.apply(lambda x: x/nb_total)\n",
    "df_freq = df_freq.sort_values('freq', ascending=False)\n",
    "\n",
    "# The top 50 words\n",
    "df_freq[0:50]\n",
    "                       "
   ]
  },
  {
   "cell_type": "markdown",
   "metadata": {},
   "source": [
    "There's a problem with the commas, we should take them off."
   ]
  },
  {
   "cell_type": "code",
   "execution_count": 173,
   "metadata": {},
   "outputs": [
    {
     "data": {
      "text/html": [
       "<div>\n",
       "<style scoped>\n",
       "    .dataframe tbody tr th:only-of-type {\n",
       "        vertical-align: middle;\n",
       "    }\n",
       "\n",
       "    .dataframe tbody tr th {\n",
       "        vertical-align: top;\n",
       "    }\n",
       "\n",
       "    .dataframe thead th {\n",
       "        text-align: right;\n",
       "    }\n",
       "</style>\n",
       "<table border=\"1\" class=\"dataframe\">\n",
       "  <thead>\n",
       "    <tr style=\"text-align: right;\">\n",
       "      <th></th>\n",
       "      <th>word</th>\n",
       "      <th>occurences</th>\n",
       "      <th>freq</th>\n",
       "    </tr>\n",
       "  </thead>\n",
       "  <tbody>\n",
       "    <tr>\n",
       "      <td>36</td>\n",
       "      <td>!</td>\n",
       "      <td>218</td>\n",
       "      <td>0.036831</td>\n",
       "    </tr>\n",
       "    <tr>\n",
       "      <td>7</td>\n",
       "      <td>for</td>\n",
       "      <td>151</td>\n",
       "      <td>0.025511</td>\n",
       "    </tr>\n",
       "    <tr>\n",
       "      <td>46</td>\n",
       "      <td>the</td>\n",
       "      <td>132</td>\n",
       "      <td>0.022301</td>\n",
       "    </tr>\n",
       "    <tr>\n",
       "      <td>60</td>\n",
       "      <td>and</td>\n",
       "      <td>118</td>\n",
       "      <td>0.019936</td>\n",
       "    </tr>\n",
       "    <tr>\n",
       "      <td>88</td>\n",
       "      <td>I</td>\n",
       "      <td>114</td>\n",
       "      <td>0.019260</td>\n",
       "    </tr>\n",
       "    <tr>\n",
       "      <td>...</td>\n",
       "      <td>...</td>\n",
       "      <td>...</td>\n",
       "      <td>...</td>\n",
       "    </tr>\n",
       "    <tr>\n",
       "      <td>766</td>\n",
       "      <td>razor</td>\n",
       "      <td>1</td>\n",
       "      <td>0.000169</td>\n",
       "    </tr>\n",
       "    <tr>\n",
       "      <td>768</td>\n",
       "      <td>attachment</td>\n",
       "      <td>1</td>\n",
       "      <td>0.000169</td>\n",
       "    </tr>\n",
       "    <tr>\n",
       "      <td>773</td>\n",
       "      <td>burnt</td>\n",
       "      <td>1</td>\n",
       "      <td>0.000169</td>\n",
       "    </tr>\n",
       "    <tr>\n",
       "      <td>776</td>\n",
       "      <td>right</td>\n",
       "      <td>1</td>\n",
       "      <td>0.000169</td>\n",
       "    </tr>\n",
       "    <tr>\n",
       "      <td>1598</td>\n",
       "      <td>t-shirt</td>\n",
       "      <td>1</td>\n",
       "      <td>0.000169</td>\n",
       "    </tr>\n",
       "  </tbody>\n",
       "</table>\n",
       "<p>1599 rows × 3 columns</p>\n",
       "</div>"
      ],
      "text/plain": [
       "            word  occurences      freq\n",
       "36             !         218  0.036831\n",
       "7            for         151  0.025511\n",
       "46           the         132  0.022301\n",
       "60           and         118  0.019936\n",
       "88             I         114  0.019260\n",
       "...          ...         ...       ...\n",
       "766        razor           1  0.000169\n",
       "768   attachment           1  0.000169\n",
       "773        burnt           1  0.000169\n",
       "776        right           1  0.000169\n",
       "1598     t-shirt           1  0.000169\n",
       "\n",
       "[1599 rows x 3 columns]"
      ]
     },
     "execution_count": 173,
     "metadata": {},
     "output_type": "execute_result"
    }
   ],
   "source": [
    "df_freq"
   ]
  },
  {
   "cell_type": "code",
   "execution_count": 169,
   "metadata": {},
   "outputs": [
    {
     "data": {
      "text/plain": [
       "[('!', 218),\n",
       " ('for', 151),\n",
       " ('the', 132),\n",
       " ('and', 118),\n",
       " ('I', 114),\n",
       " ('Great', 107),\n",
       " ('.', 105),\n",
       " ('...', 98),\n",
       " (',', 95),\n",
       " ('a', 93),\n",
       " ('to', 88),\n",
       " ('set', 88),\n",
       " ('of', 61),\n",
       " ('this', 60),\n",
       " ('good', 58),\n",
       " ('it', 57),\n",
       " ('great', 52),\n",
       " ('Good', 49),\n",
       " ('is', 43),\n",
       " ('but', 43)]"
      ]
     },
     "execution_count": 169,
     "metadata": {},
     "output_type": "execute_result"
    }
   ],
   "source": [
    "# Autre manière de présenter les top-common words\n",
    "\n",
    "Counter(test).most_common(20)"
   ]
  },
  {
   "cell_type": "markdown",
   "metadata": {},
   "source": [
    "Conjunctions like `\"for\"`, words like `\"a\"`, `\"it\"`(?), and some punctuations are not useful at all. For our sentiment analysis model, we should have a clean dataset and remove unuseful tokens. Let's create that function in our tokenization step. \n",
    "Yet some tokens like `\"!\"` can remain as they testify of a sentiment, either positive or negative. One sure thing is that it isn't neutral."
   ]
  },
  {
   "cell_type": "markdown",
   "metadata": {},
   "source": [
    "**Note** :  \n",
    "- find a way to plot it in a more appealing way\n",
    "- extend it to the whole dataset (having trouble running it locally, try with Colab)"
   ]
  },
  {
   "cell_type": "markdown",
   "metadata": {},
   "source": [
    "**Next steps**\n",
    "- Keep on the work with analysing bigrams etc\n",
    "- implement a k-means for initialization\n",
    "- Create a function that cleans the data, namely removes all the unnecessary tokens. "
   ]
  },
  {
   "cell_type": "code",
   "execution_count": 147,
   "metadata": {},
   "outputs": [
    {
     "data": {
      "image/png": "[encoded data removed]",
      "text/plain": [
       "<Figure size 432x288 with 1 Axes>"
      ]
     },
     "metadata": {
      "needs_background": "light"
     },
     "output_type": "display_data"
    }
   ],
   "source": [
    "# not useful at all \n",
    "\n",
    "plt.figure()\n",
    "plt.grid()\n",
    "plt.xscale('log')  # Using log scale\n",
    "plt.yscale('log')  # Using log scale\n",
    "plt.xlabel('log(rank)')\n",
    "plt.ylabel('log(frequency)')\n",
    "plt.title(\"The most frequent words\")\n",
    "x = list(range(df_freq.shape[0]))\n",
    "plt.plot(x, df_freq.freq)\n",
    "plt.show()"
   ]
  },
  {
   "cell_type": "markdown",
   "metadata": {},
   "source": [
    "**Let's now focus on the `reviewText` variable**"
   ]
  },
  {
   "cell_type": "code",
   "execution_count": 234,
   "metadata": {},
   "outputs": [],
   "source": [
    "review_tok = data.reviewText.drop_duplicates().apply(lambda x: TreebankWordTokenizer().tokenize(x)).array"
   ]
  },
  {
   "cell_type": "code",
   "execution_count": 249,
   "metadata": {},
   "outputs": [],
   "source": [
    "review_list = reduce(add, review_tok[0:3000])"
   ]
  },
  {
   "cell_type": "code",
   "execution_count": 259,
   "metadata": {},
   "outputs": [
    {
     "name": "stdout",
     "output_type": "stream",
     "text": [
      "number of words in the 1000 first reviews :  10614\n"
     ]
    }
   ],
   "source": [
    "print('number of words in the 1000 first reviews : ', len(set(review_list)))"
   ]
  },
  {
   "cell_type": "code",
   "execution_count": 257,
   "metadata": {},
   "outputs": [
    {
     "data": {
      "text/html": [
       "<div>\n",
       "<style scoped>\n",
       "    .dataframe tbody tr th:only-of-type {\n",
       "        vertical-align: middle;\n",
       "    }\n",
       "\n",
       "    .dataframe tbody tr th {\n",
       "        vertical-align: top;\n",
       "    }\n",
       "\n",
       "    .dataframe thead th {\n",
       "        text-align: right;\n",
       "    }\n",
       "</style>\n",
       "<table border=\"1\" class=\"dataframe\">\n",
       "  <thead>\n",
       "    <tr style=\"text-align: right;\">\n",
       "      <th></th>\n",
       "      <th>word</th>\n",
       "      <th>occurences</th>\n",
       "      <th>freq</th>\n",
       "    </tr>\n",
       "  </thead>\n",
       "  <tbody>\n",
       "    <tr>\n",
       "      <td>12</td>\n",
       "      <td>the</td>\n",
       "      <td>4525</td>\n",
       "      <td>0.034304</td>\n",
       "    </tr>\n",
       "    <tr>\n",
       "      <td>5</td>\n",
       "      <td>I</td>\n",
       "      <td>4477</td>\n",
       "      <td>0.033940</td>\n",
       "    </tr>\n",
       "    <tr>\n",
       "      <td>19</td>\n",
       "      <td>,</td>\n",
       "      <td>3755</td>\n",
       "      <td>0.028467</td>\n",
       "    </tr>\n",
       "    <tr>\n",
       "      <td>25</td>\n",
       "      <td>and</td>\n",
       "      <td>3483</td>\n",
       "      <td>0.026405</td>\n",
       "    </tr>\n",
       "    <tr>\n",
       "      <td>45</td>\n",
       "      <td>to</td>\n",
       "      <td>3253</td>\n",
       "      <td>0.024661</td>\n",
       "    </tr>\n",
       "    <tr>\n",
       "      <td>7</td>\n",
       "      <td>a</td>\n",
       "      <td>2821</td>\n",
       "      <td>0.021386</td>\n",
       "    </tr>\n",
       "    <tr>\n",
       "      <td>4</td>\n",
       "      <td>.</td>\n",
       "      <td>2001</td>\n",
       "      <td>0.015170</td>\n",
       "    </tr>\n",
       "    <tr>\n",
       "      <td>152</td>\n",
       "      <td>for</td>\n",
       "      <td>1999</td>\n",
       "      <td>0.015155</td>\n",
       "    </tr>\n",
       "    <tr>\n",
       "      <td>239</td>\n",
       "      <td>it</td>\n",
       "      <td>1865</td>\n",
       "      <td>0.014139</td>\n",
       "    </tr>\n",
       "    <tr>\n",
       "      <td>11</td>\n",
       "      <td>of</td>\n",
       "      <td>1845</td>\n",
       "      <td>0.013987</td>\n",
       "    </tr>\n",
       "    <tr>\n",
       "      <td>33</td>\n",
       "      <td>is</td>\n",
       "      <td>1666</td>\n",
       "      <td>0.012630</td>\n",
       "    </tr>\n",
       "    <tr>\n",
       "      <td>105</td>\n",
       "      <td>are</td>\n",
       "      <td>1274</td>\n",
       "      <td>0.009658</td>\n",
       "    </tr>\n",
       "    <tr>\n",
       "      <td>141</td>\n",
       "      <td>!</td>\n",
       "      <td>1255</td>\n",
       "      <td>0.009514</td>\n",
       "    </tr>\n",
       "    <tr>\n",
       "      <td>83</td>\n",
       "      <td>in</td>\n",
       "      <td>1244</td>\n",
       "      <td>0.009431</td>\n",
       "    </tr>\n",
       "    <tr>\n",
       "      <td>145</td>\n",
       "      <td>with</td>\n",
       "      <td>1196</td>\n",
       "      <td>0.009067</td>\n",
       "    </tr>\n",
       "    <tr>\n",
       "      <td>30</td>\n",
       "      <td>this</td>\n",
       "      <td>1173</td>\n",
       "      <td>0.008893</td>\n",
       "    </tr>\n",
       "    <tr>\n",
       "      <td>143</td>\n",
       "      <td>my</td>\n",
       "      <td>1101</td>\n",
       "      <td>0.008347</td>\n",
       "    </tr>\n",
       "    <tr>\n",
       "      <td>227</td>\n",
       "      <td>that</td>\n",
       "      <td>939</td>\n",
       "      <td>0.007119</td>\n",
       "    </tr>\n",
       "    <tr>\n",
       "      <td>73</td>\n",
       "      <td>have</td>\n",
       "      <td>927</td>\n",
       "      <td>0.007028</td>\n",
       "    </tr>\n",
       "    <tr>\n",
       "      <td>86</td>\n",
       "      <td>on</td>\n",
       "      <td>889</td>\n",
       "      <td>0.006740</td>\n",
       "    </tr>\n",
       "    <tr>\n",
       "      <td>42</td>\n",
       "      <td>you</td>\n",
       "      <td>885</td>\n",
       "      <td>0.006709</td>\n",
       "    </tr>\n",
       "    <tr>\n",
       "      <td>80</td>\n",
       "      <td>but</td>\n",
       "      <td>813</td>\n",
       "      <td>0.006163</td>\n",
       "    </tr>\n",
       "    <tr>\n",
       "      <td>202</td>\n",
       "      <td>n't</td>\n",
       "      <td>804</td>\n",
       "      <td>0.006095</td>\n",
       "    </tr>\n",
       "    <tr>\n",
       "      <td>304</td>\n",
       "      <td>The</td>\n",
       "      <td>762</td>\n",
       "      <td>0.005777</td>\n",
       "    </tr>\n",
       "    <tr>\n",
       "      <td>160</td>\n",
       "      <td>as</td>\n",
       "      <td>732</td>\n",
       "      <td>0.005549</td>\n",
       "    </tr>\n",
       "    <tr>\n",
       "      <td>554</td>\n",
       "      <td>these</td>\n",
       "      <td>659</td>\n",
       "      <td>0.004996</td>\n",
       "    </tr>\n",
       "    <tr>\n",
       "      <td>125</td>\n",
       "      <td>not</td>\n",
       "      <td>647</td>\n",
       "      <td>0.004905</td>\n",
       "    </tr>\n",
       "    <tr>\n",
       "      <td>782</td>\n",
       "      <td>they</td>\n",
       "      <td>647</td>\n",
       "      <td>0.004905</td>\n",
       "    </tr>\n",
       "    <tr>\n",
       "      <td>66</td>\n",
       "      <td>so</td>\n",
       "      <td>645</td>\n",
       "      <td>0.004890</td>\n",
       "    </tr>\n",
       "    <tr>\n",
       "      <td>613</td>\n",
       "      <td>was</td>\n",
       "      <td>645</td>\n",
       "      <td>0.004890</td>\n",
       "    </tr>\n",
       "    <tr>\n",
       "      <td>148</td>\n",
       "      <td>use</td>\n",
       "      <td>631</td>\n",
       "      <td>0.004784</td>\n",
       "    </tr>\n",
       "    <tr>\n",
       "      <td>270</td>\n",
       "      <td>very</td>\n",
       "      <td>564</td>\n",
       "      <td>0.004276</td>\n",
       "    </tr>\n",
       "    <tr>\n",
       "      <td>295</td>\n",
       "      <td>them</td>\n",
       "      <td>551</td>\n",
       "      <td>0.004177</td>\n",
       "    </tr>\n",
       "    <tr>\n",
       "      <td>53</td>\n",
       "      <td>great</td>\n",
       "      <td>522</td>\n",
       "      <td>0.003957</td>\n",
       "    </tr>\n",
       "    <tr>\n",
       "      <td>194</td>\n",
       "      <td>do</td>\n",
       "      <td>514</td>\n",
       "      <td>0.003897</td>\n",
       "    </tr>\n",
       "    <tr>\n",
       "      <td>482</td>\n",
       "      <td>like</td>\n",
       "      <td>507</td>\n",
       "      <td>0.003844</td>\n",
       "    </tr>\n",
       "    <tr>\n",
       "      <td>172</td>\n",
       "      <td>'s</td>\n",
       "      <td>506</td>\n",
       "      <td>0.003836</td>\n",
       "    </tr>\n",
       "    <tr>\n",
       "      <td>335</td>\n",
       "      <td>be</td>\n",
       "      <td>504</td>\n",
       "      <td>0.003821</td>\n",
       "    </tr>\n",
       "    <tr>\n",
       "      <td>347</td>\n",
       "      <td>It</td>\n",
       "      <td>460</td>\n",
       "      <td>0.003487</td>\n",
       "    </tr>\n",
       "    <tr>\n",
       "      <td>319</td>\n",
       "      <td>colors</td>\n",
       "      <td>429</td>\n",
       "      <td>0.003252</td>\n",
       "    </tr>\n",
       "    <tr>\n",
       "      <td>178</td>\n",
       "      <td>just</td>\n",
       "      <td>429</td>\n",
       "      <td>0.003252</td>\n",
       "    </tr>\n",
       "    <tr>\n",
       "      <td>75</td>\n",
       "      <td>This</td>\n",
       "      <td>421</td>\n",
       "      <td>0.003192</td>\n",
       "    </tr>\n",
       "    <tr>\n",
       "      <td>93</td>\n",
       "      <td>)</td>\n",
       "      <td>417</td>\n",
       "      <td>0.003161</td>\n",
       "    </tr>\n",
       "    <tr>\n",
       "      <td>363</td>\n",
       "      <td>good</td>\n",
       "      <td>409</td>\n",
       "      <td>0.003101</td>\n",
       "    </tr>\n",
       "    <tr>\n",
       "      <td>14</td>\n",
       "      <td>or</td>\n",
       "      <td>404</td>\n",
       "      <td>0.003063</td>\n",
       "    </tr>\n",
       "    <tr>\n",
       "      <td>1162</td>\n",
       "      <td>set</td>\n",
       "      <td>400</td>\n",
       "      <td>0.003032</td>\n",
       "    </tr>\n",
       "    <tr>\n",
       "      <td>62</td>\n",
       "      <td>out</td>\n",
       "      <td>390</td>\n",
       "      <td>0.002957</td>\n",
       "    </tr>\n",
       "    <tr>\n",
       "      <td>90</td>\n",
       "      <td>(</td>\n",
       "      <td>379</td>\n",
       "      <td>0.002873</td>\n",
       "    </tr>\n",
       "    <tr>\n",
       "      <td>67</td>\n",
       "      <td>can</td>\n",
       "      <td>373</td>\n",
       "      <td>0.002828</td>\n",
       "    </tr>\n",
       "    <tr>\n",
       "      <td>326</td>\n",
       "      <td>''</td>\n",
       "      <td>371</td>\n",
       "      <td>0.002813</td>\n",
       "    </tr>\n",
       "  </tbody>\n",
       "</table>\n",
       "</div>"
      ],
      "text/plain": [
       "        word  occurences      freq\n",
       "12       the        4525  0.034304\n",
       "5          I        4477  0.033940\n",
       "19         ,        3755  0.028467\n",
       "25       and        3483  0.026405\n",
       "45        to        3253  0.024661\n",
       "7          a        2821  0.021386\n",
       "4          .        2001  0.015170\n",
       "152      for        1999  0.015155\n",
       "239       it        1865  0.014139\n",
       "11        of        1845  0.013987\n",
       "33        is        1666  0.012630\n",
       "105      are        1274  0.009658\n",
       "141        !        1255  0.009514\n",
       "83        in        1244  0.009431\n",
       "145     with        1196  0.009067\n",
       "30      this        1173  0.008893\n",
       "143       my        1101  0.008347\n",
       "227     that         939  0.007119\n",
       "73      have         927  0.007028\n",
       "86        on         889  0.006740\n",
       "42       you         885  0.006709\n",
       "80       but         813  0.006163\n",
       "202      n't         804  0.006095\n",
       "304      The         762  0.005777\n",
       "160       as         732  0.005549\n",
       "554    these         659  0.004996\n",
       "125      not         647  0.004905\n",
       "782     they         647  0.004905\n",
       "66        so         645  0.004890\n",
       "613      was         645  0.004890\n",
       "148      use         631  0.004784\n",
       "270     very         564  0.004276\n",
       "295     them         551  0.004177\n",
       "53     great         522  0.003957\n",
       "194       do         514  0.003897\n",
       "482     like         507  0.003844\n",
       "172       's         506  0.003836\n",
       "335       be         504  0.003821\n",
       "347       It         460  0.003487\n",
       "319   colors         429  0.003252\n",
       "178     just         429  0.003252\n",
       "75      This         421  0.003192\n",
       "93         )         417  0.003161\n",
       "363     good         409  0.003101\n",
       "14        or         404  0.003063\n",
       "1162     set         400  0.003032\n",
       "62       out         390  0.002957\n",
       "90         (         379  0.002873\n",
       "67       can         373  0.002828\n",
       "326       ''         371  0.002813"
      ]
     },
     "execution_count": 257,
     "metadata": {},
     "output_type": "execute_result"
    }
   ],
   "source": [
    "counter = Counter(review_list)\n",
    "df_freq_review = pd.DataFrame(counter, index = ['Occurences']).transpose().reset_index()\n",
    "df_freq_review.columns = ['word', 'occurences']\n",
    "nb_total = df_freq_review.occurences.sum()\n",
    "df_freq_review['freq'] = df_freq_review.occurences.apply(lambda x: x/nb_total)\n",
    "df_freq_review = df_freq_review.sort_values('freq', ascending=False)\n",
    "\n",
    "# The top 50 words\n",
    "df_freq_review[0:50]"
   ]
  },
  {
   "cell_type": "markdown",
   "metadata": {},
   "source": [
    "**Note** \n",
    "- choose which token to keep, and which to get rid off (prepositions, commas, brackets, etc)\n",
    "- create a function that cleans the data\n",
    "\n",
    "Indeed most common words are useless words and we may lose some precious information or efficiency for the model. \n",
    "\n",
    "Also, is TreebankTokenizer best suited for our model or should we test some others ? "
   ]
  },
  {
   "cell_type": "code",
   "execution_count": null,
   "metadata": {},
   "outputs": [],
   "source": []
  },
  {
   "cell_type": "code",
   "execution_count": null,
   "metadata": {},
   "outputs": [],
   "source": []
  },
  {
   "cell_type": "code",
   "execution_count": null,
   "metadata": {},
   "outputs": [],
   "source": []
  }
 ],
 "metadata": {
  "kernelspec": {
   "display_name": "Python 3",
   "language": "python",
   "name": "python3"
  },
  "language_info": {
   "codemirror_mode": {
    "name": "ipython",
    "version": 3
   },
   "file_extension": ".py",
   "mimetype": "text/x-python",
   "name": "python",
   "nbconvert_exporter": "python",
   "pygments_lexer": "ipython3",
   "version": "3.7.4"
  }
 },
 "nbformat": 4,
 "nbformat_minor": 4
}
