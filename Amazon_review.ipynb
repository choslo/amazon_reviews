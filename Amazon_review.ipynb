{
 "cells": [
  {
   "cell_type": "markdown",
   "metadata": {
    "colab_type": "text",
    "id": "RmLKuh5lQ8EB"
   },
   "source": [
    "# **NLP project**"
   ]
  },
  {
   "cell_type": "code",
   "execution_count": 3,
   "metadata": {},
   "outputs": [],
   "source": [
    "import warnings\n",
    "warnings.filterwarnings('ignore')"
   ]
  },
  {
   "cell_type": "code",
   "execution_count": 4,
   "metadata": {
    "colab": {},
    "colab_type": "code",
    "id": "LHtDKrUPQ8EE"
   },
   "outputs": [],
   "source": [
    "import pandas as pd\n",
    "import os"
   ]
  },
  {
   "cell_type": "code",
   "execution_count": 5,
   "metadata": {
    "colab": {
     "base_uri": "https://localhost:8080/",
     "height": 71
    },
    "colab_type": "code",
    "id": "2ftFazI0Q8EQ",
    "outputId": "f8c09e9d-1753-4a96-a67b-8ff678ca69b0"
   },
   "outputs": [],
   "source": [
    "%matplotlib inline\n",
    "import matplotlib.pyplot as plt\n",
    "import numpy as np\n",
    "import seaborn as sns\n",
    "sns.set(palette=\"GnBu_d\")"
   ]
  },
  {
   "cell_type": "markdown",
   "metadata": {},
   "source": [
    "## Table of Contents\n",
    "\n",
    "1. [Data Analysis](#part_1)<br>\n",
    "    0.[ Get_the_data](#part_1_0) <br>\n",
    "    1.[ Overview](#part_1_1) <br>\n",
    "    2.[ `overall` variable and labelling](#select_label) <br>\n",
    "    3.[ Some statistics on variables](#part_1_3) <br>\n",
    "    4.[ Text variables : `reviewText` and `summary`](#part_1_4) <br>\n",
    "\n",
    "\n",
    "2. [Tokenization steps](#part_2) <br>\n",
    "\n",
    "    \n",
    "3. [Sentiment Analysis Model](#part_3)<br>\n",
    "\n",
    "    1.[K-means](#part_3_1) <br>\n",
    "    2.[Logistic Regression](#part_3_2) <br>\n",
    "    3.[Deep Learning Models](#part_3_3) <br>\n",
    "\n",
    "\n"
   ]
  },
  {
   "cell_type": "markdown",
   "metadata": {},
   "source": [
    "<a id='part_1'></a>"
   ]
  },
  {
   "cell_type": "markdown",
   "metadata": {},
   "source": [
    "# I -  Data Analysis "
   ]
  },
  {
   "cell_type": "markdown",
   "metadata": {},
   "source": [
    "<a id='part_1_0'></a>"
   ]
  },
  {
   "cell_type": "markdown",
   "metadata": {},
   "source": [
    "## 0. Get the data "
   ]
  },
  {
   "cell_type": "code",
   "execution_count": 6,
   "metadata": {},
   "outputs": [],
   "source": [
    "from prepare_data import get_data"
   ]
  },
  {
   "cell_type": "markdown",
   "metadata": {},
   "source": [
    "The function $\\textit{get_data ( nb_label )}$ creates a dataframe, converts variables type to the most conveniant form and create labels based on the `overall` variable, which is the actual rate.\n",
    "If nb_label = 3, the labels are created according to the following rules : \n",
    "- If `overall` = 5, then `label` =\"positive\"\n",
    "- If `overall` = 4, then `label` =\"neutral\"\n",
    "- Else then `label` =\"negative\"\n",
    "\n",
    "Please check this [section](#select_label) that explains why we choose such repartition\n"
   ]
  },
  {
   "cell_type": "code",
   "execution_count": 8,
   "metadata": {},
   "outputs": [],
   "source": [
    "# We get the dataframe\n",
    "data = get_data(nb_label=3)"
   ]
  },
  {
   "cell_type": "code",
   "execution_count": 33,
   "metadata": {
    "colab": {
     "base_uri": "https://localhost:8080/",
     "height": 332
    },
    "colab_type": "code",
    "id": "FCzIQKFpQ8En",
    "outputId": "f48ddad8-5140-437e-89ed-d1e4b7148d25"
   },
   "outputs": [
    {
     "data": {
      "text/html": [
       "<div>\n",
       "<style scoped>\n",
       "    .dataframe tbody tr th:only-of-type {\n",
       "        vertical-align: middle;\n",
       "    }\n",
       "\n",
       "    .dataframe tbody tr th {\n",
       "        vertical-align: top;\n",
       "    }\n",
       "\n",
       "    .dataframe thead th {\n",
       "        text-align: right;\n",
       "    }\n",
       "</style>\n",
       "<table border=\"1\" class=\"dataframe\">\n",
       "  <thead>\n",
       "    <tr style=\"text-align: right;\">\n",
       "      <th></th>\n",
       "      <th>overall</th>\n",
       "      <th>verified</th>\n",
       "      <th>reviewTime</th>\n",
       "      <th>reviewerID</th>\n",
       "      <th>asin</th>\n",
       "      <th>style</th>\n",
       "      <th>reviewerName</th>\n",
       "      <th>reviewText</th>\n",
       "      <th>summary</th>\n",
       "      <th>unixReviewTime</th>\n",
       "      <th>vote</th>\n",
       "      <th>image</th>\n",
       "      <th>label</th>\n",
       "    </tr>\n",
       "  </thead>\n",
       "  <tbody>\n",
       "    <tr>\n",
       "      <th>0</th>\n",
       "      <td>4</td>\n",
       "      <td>True</td>\n",
       "      <td>2016-03-29</td>\n",
       "      <td>AIE8N9U317ZBM</td>\n",
       "      <td>0449819906</td>\n",
       "      <td>{'Format:': ' Kindle Edition'}</td>\n",
       "      <td>Zelmira, Ph.D.</td>\n",
       "      <td>Contains some interesting stitches.</td>\n",
       "      <td>Four Stars</td>\n",
       "      <td>1459209600</td>\n",
       "      <td>NaN</td>\n",
       "      <td>NaT</td>\n",
       "      <td>neutral</td>\n",
       "    </tr>\n",
       "    <tr>\n",
       "      <th>1</th>\n",
       "      <td>5</td>\n",
       "      <td>True</td>\n",
       "      <td>2015-08-12</td>\n",
       "      <td>A3ECOW0TWLH9V6</td>\n",
       "      <td>0449819906</td>\n",
       "      <td>{'Format:': ' Paperback'}</td>\n",
       "      <td>Dangerous when Cooking</td>\n",
       "      <td>I'm a fairly experienced knitter of the one-co...</td>\n",
       "      <td>My current favorite go-to guide for inspiration</td>\n",
       "      <td>1439337600</td>\n",
       "      <td>18.0</td>\n",
       "      <td>NaT</td>\n",
       "      <td>positive</td>\n",
       "    </tr>\n",
       "    <tr>\n",
       "      <th>2</th>\n",
       "      <td>4</td>\n",
       "      <td>True</td>\n",
       "      <td>2015-04-05</td>\n",
       "      <td>A278N8QX9TY2OS</td>\n",
       "      <td>0449819906</td>\n",
       "      <td>{'Format:': ' Paperback'}</td>\n",
       "      <td>Just us</td>\n",
       "      <td>Great book but the index is terrible. Had to w...</td>\n",
       "      <td>lots of great examples, good instructions, col...</td>\n",
       "      <td>1428192000</td>\n",
       "      <td>3.0</td>\n",
       "      <td>NaT</td>\n",
       "      <td>neutral</td>\n",
       "    </tr>\n",
       "  </tbody>\n",
       "</table>\n",
       "</div>"
      ],
      "text/plain": [
       "   overall  verified reviewTime      reviewerID        asin  \\\n",
       "0        4      True 2016-03-29   AIE8N9U317ZBM  0449819906   \n",
       "1        5      True 2015-08-12  A3ECOW0TWLH9V6  0449819906   \n",
       "2        4      True 2015-04-05  A278N8QX9TY2OS  0449819906   \n",
       "\n",
       "                            style            reviewerName  \\\n",
       "0  {'Format:': ' Kindle Edition'}          Zelmira, Ph.D.   \n",
       "1       {'Format:': ' Paperback'}  Dangerous when Cooking   \n",
       "2       {'Format:': ' Paperback'}                 Just us   \n",
       "\n",
       "                                          reviewText  \\\n",
       "0                Contains some interesting stitches.   \n",
       "1  I'm a fairly experienced knitter of the one-co...   \n",
       "2  Great book but the index is terrible. Had to w...   \n",
       "\n",
       "                                             summary  unixReviewTime  vote  \\\n",
       "0                                         Four Stars      1459209600   NaN   \n",
       "1    My current favorite go-to guide for inspiration      1439337600  18.0   \n",
       "2  lots of great examples, good instructions, col...      1428192000   3.0   \n",
       "\n",
       "  image     label  \n",
       "0   NaT   neutral  \n",
       "1   NaT  positive  \n",
       "2   NaT   neutral  "
      ]
     },
     "execution_count": 33,
     "metadata": {},
     "output_type": "execute_result"
    }
   ],
   "source": [
    "data.head(3)"
   ]
  },
  {
   "cell_type": "markdown",
   "metadata": {},
   "source": [
    "<a id='part_1_1'></a>"
   ]
  },
  {
   "cell_type": "markdown",
   "metadata": {
    "colab_type": "text",
    "id": "dQaH_Mgw8ElR"
   },
   "source": [
    "## 1.  Overview"
   ]
  },
  {
   "cell_type": "code",
   "execution_count": 47,
   "metadata": {
    "colab": {
     "base_uri": "https://localhost:8080/",
     "height": 34
    },
    "colab_type": "code",
    "id": "jgZYDDKZQ8Es",
    "outputId": "548a7303-78f0-4a23-ba90-7f7d884731af"
   },
   "outputs": [
    {
     "name": "stdout",
     "output_type": "stream",
     "text": [
      "We have 494485 reviews from 56210 distinct reviewers, and 13 variables.\n"
     ]
    }
   ],
   "source": [
    "print(\"We have\", data.shape[0], \"reviews from\", data.reviewerID.nunique() ,\"distinct reviewers, and\", data.shape[1], \"variables.\")"
   ]
  },
  {
   "cell_type": "markdown",
   "metadata": {},
   "source": [
    "Our 13 variables are the following : \n",
    "- `overall`: rating from 1 to 5 stars \n",
    "- `verified`: true if the review autheur has bought the product \n",
    "- `reviewTime` : date of the review \n",
    "- `reviewerID`: Id of the reviewer \n",
    "- `asin`: reference of the product \n",
    "- `style` : version of the product \n",
    "- `reviewerName` : reviewer name \n",
    "- `reviewText` : review \n",
    "- `summary` : \"title\" of the review\n",
    "- `vote` : number of person who judged the review pertinent\n",
    "- `image`: of the product \n",
    "- `label`: (creation) \n"
   ]
  },
  {
   "cell_type": "code",
   "execution_count": 35,
   "metadata": {
    "colab": {
     "base_uri": "https://localhost:8080/",
     "height": 578
    },
    "colab_type": "code",
    "id": "2ZmtfQdH9Hgv",
    "outputId": "b95475a1-3db1-4e2f-b2eb-258bf01c0c32"
   },
   "outputs": [
    {
     "name": "stdout",
     "output_type": "stream",
     "text": [
      "overall                    int64\n",
      "verified                    bool\n",
      "reviewTime        datetime64[ns]\n",
      "reviewerID                object\n",
      "asin                      object\n",
      "style                     object\n",
      "reviewerName              object\n",
      "reviewText                object\n",
      "summary                   object\n",
      "unixReviewTime             int64\n",
      "vote                     float64\n",
      "image             datetime64[ns]\n",
      "label                     object\n",
      "dtype: object\n"
     ]
    }
   ],
   "source": [
    "print(data.dtypes)"
   ]
  },
  {
   "cell_type": "markdown",
   "metadata": {},
   "source": [
    "<a id='select_label'></a>"
   ]
  },
  {
   "cell_type": "markdown",
   "metadata": {
    "colab_type": "text",
    "id": "nTRufJltQ8FD"
   },
   "source": [
    "## 2.  `overall` variable and labelling\n"
   ]
  },
  {
   "cell_type": "code",
   "execution_count": 11,
   "metadata": {
    "colab": {
     "base_uri": "https://localhost:8080/",
     "height": 170
    },
    "colab_type": "code",
    "id": "dweFI4C0Q8FD",
    "outputId": "6dfd38d9-d0f1-47dd-a40f-8e5f339534a9"
   },
   "outputs": [
    {
     "data": {
      "text/plain": [
       "count    494485.000000\n",
       "mean          4.566852\n",
       "std           0.929987\n",
       "min           1.000000\n",
       "25%           5.000000\n",
       "50%           5.000000\n",
       "75%           5.000000\n",
       "max           5.000000\n",
       "Name: overall, dtype: float64"
      ]
     },
     "execution_count": 11,
     "metadata": {},
     "output_type": "execute_result"
    }
   ],
   "source": [
    "data.overall.describe()"
   ]
  },
  {
   "cell_type": "markdown",
   "metadata": {
    "colab_type": "text",
    "id": "528NnHl-Q8FH"
   },
   "source": [
    "The distribution is highly concentrated on the right, with more than 75% of the sample with the value 5 (out of 5). Overall, people seem to be very satisfied with the products."
   ]
  },
  {
   "cell_type": "code",
   "execution_count": 12,
   "metadata": {
    "colab": {
     "base_uri": "https://localhost:8080/",
     "height": 34
    },
    "colab_type": "code",
    "id": "AWwllBMmQ8FI",
    "outputId": "49c6426e-6c3b-4b7d-e1cd-941b283f0c3b"
   },
   "outputs": [
    {
     "data": {
      "text/plain": [
       "array([4, 5, 2, 3, 1])"
      ]
     },
     "execution_count": 12,
     "metadata": {},
     "output_type": "execute_result"
    }
   ],
   "source": [
    "data.overall.unique()"
   ]
  },
  {
   "cell_type": "code",
   "execution_count": 13,
   "metadata": {
    "colab": {
     "base_uri": "https://localhost:8080/",
     "height": 301
    },
    "colab_type": "code",
    "id": "lHDN6fiTQ8FQ",
    "outputId": "3d4850a8-6c5e-4644-b8bb-7b593ae3fb74"
   },
   "outputs": [
    {
     "data": {
      "text/plain": [
       "Text(0.5, 1.0, 'Overall distribution')"
      ]
     },
     "execution_count": 13,
     "metadata": {},
     "output_type": "execute_result"
    },
    {
     "data": {
      "image/png": "[encoded data removed]",
      "text/plain": [
       "<Figure size 432x288 with 1 Axes>"
      ]
     },
     "metadata": {},
     "output_type": "display_data"
    }
   ],
   "source": [
    "data.overall.hist(bins = 5)\n",
    "plt.title('Overall distribution')"
   ]
  },
  {
   "cell_type": "markdown",
   "metadata": {
    "colab_type": "text",
    "id": "6kTZNer58w2R"
   },
   "source": [
    "**Creating the target variable for our future models**"
   ]
  },
  {
   "cell_type": "code",
   "execution_count": 48,
   "metadata": {
    "colab": {
     "base_uri": "https://localhost:8080/",
     "height": 85
    },
    "colab_type": "code",
    "id": "3TkElStqZhK8",
    "outputId": "07e293c2-4eca-4cae-f52e-ebbd0aa7ae37"
   },
   "outputs": [
    {
     "data": {
      "text/plain": [
       "positive    0.763562\n",
       "neutral     0.123654\n",
       "negative    0.112784\n",
       "Name: label, dtype: float64"
      ]
     },
     "execution_count": 48,
     "metadata": {},
     "output_type": "execute_result"
    }
   ],
   "source": [
    "data.label.value_counts(normalize = True)"
   ]
  },
  {
   "cell_type": "markdown",
   "metadata": {
    "colab_type": "text",
    "id": "NstAlQlBZogJ"
   },
   "source": [
    "**Important note :** We'll have to take subsamples of the positive reviews to reach a balanced dataset and satisfactory accuracy rates.\n",
    "\n"
   ]
  },
  {
   "cell_type": "markdown",
   "metadata": {
    "colab_type": "text",
    "id": "n5A8hy35jzF4"
   },
   "source": [
    "=> It would be interesting to analyze the relation between the `vote` and `label` variables. Do negative / positive reviews get the highest votes ? "
   ]
  },
  {
   "cell_type": "markdown",
   "metadata": {},
   "source": [
    "<a id='part_1_3'></a>"
   ]
  },
  {
   "cell_type": "markdown",
   "metadata": {
    "colab_type": "text",
    "id": "qcPg-ks0Q8FU"
   },
   "source": [
    "## 3. Some statistics on variables "
   ]
  },
  {
   "cell_type": "code",
   "execution_count": 18,
   "metadata": {
    "colab": {
     "base_uri": "https://localhost:8080/",
     "height": 319
    },
    "colab_type": "code",
    "id": "u0NEphZAQ8FX",
    "outputId": "dfad5011-a5c7-4d71-fd9d-8e5ed52ebb9f"
   },
   "outputs": [
    {
     "data": {
      "text/plain": [
       "Text(0.5, 1.0, 'Period of the reviews ?')"
      ]
     },
     "execution_count": 18,
     "metadata": {},
     "output_type": "execute_result"
    },
    {
     "data": {
      "image/png": "[encoded data removed]",
      "text/plain": [
       "<Figure size 432x288 with 1 Axes>"
      ]
     },
     "metadata": {},
     "output_type": "display_data"
    }
   ],
   "source": [
    "data.reviewTime.dt.year.value_counts(dropna=False).plot(kind='bar')\n",
    "plt.title(\"Period of the reviews ?\")"
   ]
  },
  {
   "cell_type": "code",
   "execution_count": 19,
   "metadata": {
    "colab": {
     "base_uri": "https://localhost:8080/",
     "height": 305
    },
    "colab_type": "code",
    "id": "kslSjuAWQ8Fa",
    "outputId": "c8ad2366-8f4e-4211-d756-0548f4a0045c"
   },
   "outputs": [
    {
     "data": {
      "text/plain": [
       "Text(0.5, 1.0, 'Is there a seasonality for the reviews ?')"
      ]
     },
     "execution_count": 19,
     "metadata": {},
     "output_type": "execute_result"
    },
    {
     "data": {
      "image/png": "[encoded data removed]",
      "text/plain": [
       "<Figure size 432x288 with 1 Axes>"
      ]
     },
     "metadata": {},
     "output_type": "display_data"
    }
   ],
   "source": [
    "data.reviewTime.dt.month.value_counts(dropna=False).plot(kind='bar')\n",
    "plt.title('Is there a seasonality for the reviews ?')"
   ]
  },
  {
   "cell_type": "markdown",
   "metadata": {
    "colab_type": "text",
    "id": "vgzpaTxwQ8Fd"
   },
   "source": [
    "People comment throughout the year, there's no specific seasonal trend for client's behavior."
   ]
  },
  {
   "cell_type": "markdown",
   "metadata": {
    "colab_type": "text",
    "id": "PfpuzIhwQ8Fe"
   },
   "source": [
    "#### A closer look on the `vote` variable : will it be useful for our classification ?"
   ]
  },
  {
   "cell_type": "markdown",
   "metadata": {
    "colab_type": "text",
    "id": "6w8Zj1lAQ8Fe"
   },
   "source": [
    "`Vote` variable : on Amazon website, the more votes a comment gets, the more it is useful for the community. One approach of our classification could be to analyse whether reviews with the highest votes are rather positive, neutral, negative ?  "
   ]
  },
  {
   "cell_type": "code",
   "execution_count": 21,
   "metadata": {
    "colab": {
     "base_uri": "https://localhost:8080/",
     "height": 170
    },
    "colab_type": "code",
    "id": "ypR9UKMcQ8Fh",
    "outputId": "ca901932-9ed2-48df-f23b-dd54d45b724f"
   },
   "outputs": [
    {
     "data": {
      "text/plain": [
       "count    71007.000000\n",
       "mean         7.882800\n",
       "std         21.572504\n",
       "min          2.000000\n",
       "25%          2.000000\n",
       "50%          3.000000\n",
       "75%          7.000000\n",
       "max        903.000000\n",
       "Name: vote, dtype: float64"
      ]
     },
     "execution_count": 21,
     "metadata": {},
     "output_type": "execute_result"
    }
   ],
   "source": [
    "data.vote.describe()"
   ]
  },
  {
   "cell_type": "code",
   "execution_count": 22,
   "metadata": {
    "colab": {
     "base_uri": "https://localhost:8080/",
     "height": 170
    },
    "colab_type": "code",
    "id": "9Njsh1S0Q8Fl",
    "outputId": "4e8cdc6d-16f0-4437-b0e3-7aa0c5e2c4b3"
   },
   "outputs": [
    {
     "data": {
      "text/plain": [
       "count    15375.000000\n",
       "mean        24.584976\n",
       "std         42.252494\n",
       "min          8.000000\n",
       "25%         10.000000\n",
       "50%         13.000000\n",
       "75%         23.000000\n",
       "max        903.000000\n",
       "Name: vote, dtype: float64"
      ]
     },
     "execution_count": 22,
     "metadata": {},
     "output_type": "execute_result"
    }
   ],
   "source": [
    "data.vote[data.vote > 7].describe()"
   ]
  },
  {
   "cell_type": "code",
   "execution_count": 23,
   "metadata": {
    "colab": {
     "base_uri": "https://localhost:8080/",
     "height": 301
    },
    "colab_type": "code",
    "id": "z2sAGS_uQ8Fo",
    "outputId": "8cc28c91-5ae3-4b3b-fe55-8f2d236e3103"
   },
   "outputs": [
    {
     "data": {
      "text/plain": [
       "Text(0.5, 1.0, 'Votes distribution')"
      ]
     },
     "execution_count": 23,
     "metadata": {},
     "output_type": "execute_result"
    },
    {
     "data": {
      "image/png": "[encoded data removed]",
      "text/plain": [
       "<Figure size 432x288 with 1 Axes>"
      ]
     },
     "metadata": {},
     "output_type": "display_data"
    }
   ],
   "source": [
    "data.vote.hist(range = (0,23), bins = 15)\n",
    "plt.title('Votes distribution')"
   ]
  },
  {
   "cell_type": "markdown",
   "metadata": {},
   "source": [
    "**Correlation of the `vote` variable with the `label` of a review.**"
   ]
  },
  {
   "cell_type": "code",
   "execution_count": 19,
   "metadata": {},
   "outputs": [
    {
     "data": {
      "text/html": [
       "<div>\n",
       "<style scoped>\n",
       "    .dataframe tbody tr th:only-of-type {\n",
       "        vertical-align: middle;\n",
       "    }\n",
       "\n",
       "    .dataframe tbody tr th {\n",
       "        vertical-align: top;\n",
       "    }\n",
       "\n",
       "    .dataframe thead th {\n",
       "        text-align: right;\n",
       "    }\n",
       "</style>\n",
       "<table border=\"1\" class=\"dataframe\">\n",
       "  <thead>\n",
       "    <tr style=\"text-align: right;\">\n",
       "      <th></th>\n",
       "      <th>overall</th>\n",
       "      <th>verified</th>\n",
       "      <th>unixReviewTime</th>\n",
       "      <th>vote</th>\n",
       "    </tr>\n",
       "    <tr>\n",
       "      <th>label</th>\n",
       "      <th></th>\n",
       "      <th></th>\n",
       "      <th></th>\n",
       "      <th></th>\n",
       "    </tr>\n",
       "  </thead>\n",
       "  <tbody>\n",
       "    <tr>\n",
       "      <th>negative</th>\n",
       "      <td>0.83983</td>\n",
       "      <td>0.279139</td>\n",
       "      <td>4.772940e+07</td>\n",
       "      <td>18.506311</td>\n",
       "    </tr>\n",
       "    <tr>\n",
       "      <th>neutral</th>\n",
       "      <td>0.00000</td>\n",
       "      <td>0.258071</td>\n",
       "      <td>4.744144e+07</td>\n",
       "      <td>23.335929</td>\n",
       "    </tr>\n",
       "    <tr>\n",
       "      <th>positive</th>\n",
       "      <td>0.00000</td>\n",
       "      <td>0.229667</td>\n",
       "      <td>4.480170e+07</td>\n",
       "      <td>22.012503</td>\n",
       "    </tr>\n",
       "  </tbody>\n",
       "</table>\n",
       "</div>"
      ],
      "text/plain": [
       "          overall  verified  unixReviewTime       vote\n",
       "label                                                 \n",
       "negative  0.83983  0.279139    4.772940e+07  18.506311\n",
       "neutral   0.00000  0.258071    4.744144e+07  23.335929\n",
       "positive  0.00000  0.229667    4.480170e+07  22.012503"
      ]
     },
     "execution_count": 19,
     "metadata": {},
     "output_type": "execute_result"
    }
   ],
   "source": [
    "data.groupby(['label']).std()"
   ]
  },
  {
   "cell_type": "code",
   "execution_count": 20,
   "metadata": {},
   "outputs": [
    {
     "data": {
      "text/plain": [
       "array([[<matplotlib.axes._subplots.AxesSubplot object at 0x1a838ec828>,\n",
       "        <matplotlib.axes._subplots.AxesSubplot object at 0x1a838b8f28>],\n",
       "       [<matplotlib.axes._subplots.AxesSubplot object at 0x1a8388c6a0>,\n",
       "        <matplotlib.axes._subplots.AxesSubplot object at 0x1a8385aeb8>]],\n",
       "      dtype=object)"
      ]
     },
     "execution_count": 20,
     "metadata": {},
     "output_type": "execute_result"
    },
    {
     "data": {
      "image/png": "[encoded data removed]",
      "text/plain": [
       "<Figure size 432x288 with 4 Axes>"
      ]
     },
     "metadata": {
      "needs_background": "light"
     },
     "output_type": "display_data"
    }
   ],
   "source": [
    "data['vote'].hist(range=(0,20), by=data['label'])"
   ]
  },
  {
   "cell_type": "markdown",
   "metadata": {},
   "source": [
    "Looking at the distribution of the vote variable for each class of reviews (neutral, positive, negative), it seems that there isn't much difference in terms of behavior: \n",
    "- For each label, the average vote is approximately the same. \n",
    "- The distribution of the vote variable only differs in proportion, (see positive ratings have 4-5 times the amount of votes compared to the others), but it's only because the data is very unbalanced with an astounding proportion of positive reviews. "
   ]
  },
  {
   "cell_type": "markdown",
   "metadata": {
    "colab_type": "text",
    "id": "gtr8yweBQ8F1"
   },
   "source": [
    "#### How many reviewers ? \n",
    "\n",
    "How many reviewers in this dataset ? Are people who give ratings more likely to be more active on the site ? "
   ]
  },
  {
   "cell_type": "code",
   "execution_count": 51,
   "metadata": {
    "colab": {
     "base_uri": "https://localhost:8080/",
     "height": 221
    },
    "colab_type": "code",
    "id": "amn9bsMdQ8F1",
    "outputId": "859a1de2-bec5-4288-8c56-035d25799c80"
   },
   "outputs": [
    {
     "data": {
      "text/plain": [
       "A13OFOB1394G31    0.000439\n",
       "ALYZJ7W14YS26     0.000374\n",
       "A3NDWL56CCM3Q5    0.000372\n",
       "A2OYDT4I6AK54P    0.000338\n",
       "AL7KMEKSLCW84     0.000318\n",
       "                    ...   \n",
       "A3VUQQR4G6HAZ     0.000008\n",
       "A8HNE7ZYRCMLR     0.000008\n",
       "A5AGPUR4P63U7     0.000008\n",
       "A2T52E9EEEWIER    0.000006\n",
       "A2NJFRWFN7BLHW    0.000006\n",
       "Name: reviewerID, Length: 56210, dtype: float64"
      ]
     },
     "execution_count": 51,
     "metadata": {},
     "output_type": "execute_result"
    }
   ],
   "source": [
    "data.reviewerID.value_counts(normalize = True)"
   ]
  },
  {
   "cell_type": "code",
   "execution_count": 52,
   "metadata": {
    "colab": {
     "base_uri": "https://localhost:8080/",
     "height": 34
    },
    "colab_type": "code",
    "id": "DYI9QlI1Q8F4",
    "outputId": "005c4207-0b0f-4dac-c7d4-ae266670b68b"
   },
   "outputs": [
    {
     "name": "stdout",
     "output_type": "stream",
     "text": [
      "Percentage of unique reviewers 0.09197043388575993\n"
     ]
    }
   ],
   "source": [
    "print('Percentage of unique reviewers', data.reviewerName.nunique()/len(data.reviewerName))"
   ]
  },
  {
   "cell_type": "markdown",
   "metadata": {
    "colab_type": "text",
    "id": "2K-rwcrFQ8F7"
   },
   "source": [
    "Only 10% of recurrent clients : the dataset is rather diverse."
   ]
  },
  {
   "cell_type": "markdown",
   "metadata": {
    "colab_type": "text",
    "id": "12RIZuGIQ8F9"
   },
   "source": [
    "*There's a slight difference between both variables (`reviewerID` and `reviewerName`) because some different users (by ID) might have the same name.*"
   ]
  },
  {
   "cell_type": "markdown",
   "metadata": {},
   "source": [
    "<a id='part_1_4'></a>"
   ]
  },
  {
   "cell_type": "markdown",
   "metadata": {
    "colab_type": "text",
    "id": "gzYtOyC6Q8GJ"
   },
   "source": [
    "## 4. Text variables :  `reviewText` and `summary`"
   ]
  },
  {
   "cell_type": "markdown",
   "metadata": {
    "colab_type": "text",
    "id": "e8-pGIz7Q8GS"
   },
   "source": [
    "#### **First descriptive insights**"
   ]
  },
  {
   "cell_type": "code",
   "execution_count": 53,
   "metadata": {
    "colab": {
     "base_uri": "https://localhost:8080/",
     "height": 51
    },
    "colab_type": "code",
    "id": "CNOxKblLFMuR",
    "outputId": "283d20e6-9ae5-4fb7-f415-259f10854158"
   },
   "outputs": [
    {
     "name": "stdout",
     "output_type": "stream",
     "text": [
      "the % of non-missing values for the reviewText column :  1.0\n",
      "the % of non-missing values for the summary column :  1.0\n"
     ]
    }
   ],
   "source": [
    "print('the % of non-missing values for the reviewText column : ', \n",
    "      data.reviewText.count()/len(data.reviewText))\n",
    "print('the % of non-missing values for the summary column : ', \n",
    "      data.summary.count()/len(data.summary))"
   ]
  },
  {
   "cell_type": "markdown",
   "metadata": {
    "colab_type": "text",
    "id": "5EVwFHG-Q8GP"
   },
   "source": [
    "There is no missing data for our text columns."
   ]
  },
  {
   "cell_type": "markdown",
   "metadata": {
    "colab_type": "text",
    "id": "EDRoHNvPQ8GS"
   },
   "source": [
    "The `summary`variable resumes the comment of the user. "
   ]
  },
  {
   "cell_type": "code",
   "execution_count": 54,
   "metadata": {
    "colab": {
     "base_uri": "https://localhost:8080/",
     "height": 51
    },
    "colab_type": "code",
    "id": "uJ5wRu3BQ8GW",
    "outputId": "25632778-12bc-47c9-e720-9d704bbd075e"
   },
   "outputs": [
    {
     "name": "stdout",
     "output_type": "stream",
     "text": [
      "Le %  de summary distincts :  0.39604436939442045\n",
      "Le nombre de summary dans le dataset :  494485\n"
     ]
    }
   ],
   "source": [
    "print('Le %  de summary distincts : ', len(data.summary.unique())/len(data.summary))\n",
    "print('Le nombre de summary dans le dataset : ', len(data.summary))"
   ]
  },
  {
   "cell_type": "code",
   "execution_count": 55,
   "metadata": {
    "colab": {
     "base_uri": "https://localhost:8080/",
     "height": 51
    },
    "colab_type": "code",
    "id": "3VIawhGlQ8GY",
    "outputId": "f7453559-52f3-43fc-8660-c3937d7380df"
   },
   "outputs": [
    {
     "name": "stdout",
     "output_type": "stream",
     "text": [
      "Nombre moyen de caractères dans reviewText :  195.15210394530507\n",
      "Nombre moyen de caractères dans summary  32.80974070405131\n"
     ]
    }
   ],
   "source": [
    "print('Nombre moyen de caractères dans reviewText : ', data.reviewText.drop_duplicates().apply(len).mean())\n",
    "print('Nombre moyen de caractères dans summary ', data.summary.drop_duplicates().apply(len).mean() )"
   ]
  },
  {
   "cell_type": "code",
   "execution_count": 56,
   "metadata": {
    "colab": {
     "base_uri": "https://localhost:8080/",
     "height": 301
    },
    "colab_type": "code",
    "id": "DPFk6QauQ8Ga",
    "outputId": "90f74701-f815-43fc-d87a-a55381643245"
   },
   "outputs": [
    {
     "data": {
      "text/plain": [
       "Text(0.5, 1.0, \"Distribution of characters' length for summary variable\")"
      ]
     },
     "execution_count": 56,
     "metadata": {},
     "output_type": "execute_result"
    },
    {
     "data": {
      "image/png": "[encoded data removed]",
      "text/plain": [
       "<Figure size 432x288 with 1 Axes>"
      ]
     },
     "metadata": {},
     "output_type": "display_data"
    }
   ],
   "source": [
    "data.summary.drop_duplicates().apply(len).hist(bins = 40)\n",
    "plt.title(\"Distribution of characters' length for summary variable\")"
   ]
  },
  {
   "cell_type": "code",
   "execution_count": 60,
   "metadata": {
    "colab": {
     "base_uri": "https://localhost:8080/",
     "height": 891
    },
    "colab_type": "code",
    "id": "Q2UDRxzCQ8Gd",
    "outputId": "a2643154-cf4c-4ba6-9d8d-25325bc88cff"
   },
   "outputs": [
    {
     "name": "stdout",
     "output_type": "stream",
     "text": [
      "count    195838.000000\n",
      "mean         32.809741\n",
      "std          19.804580\n",
      "min           1.000000\n",
      "25%          18.000000\n",
      "50%          28.000000\n",
      "75%          43.000000\n",
      "max         227.000000\n",
      "Name: summary, dtype: float64\n",
      "------------------------------------------------\n",
      "count    352647.000000\n",
      "mean        195.152104\n",
      "std         323.523182\n",
      "min           1.000000\n",
      "25%          48.000000\n",
      "50%         108.000000\n",
      "75%         215.000000\n",
      "max       19323.000000\n",
      "Name: reviewText, dtype: float64\n",
      "------------------------------------------------\n"
     ]
    },
    {
     "data": {
      "image/png": "[encoded data removed]",
      "text/plain": [
       "<Figure size 432x288 with 1 Axes>"
      ]
     },
     "metadata": {},
     "output_type": "display_data"
    },
    {
     "data": {
      "image/png": "[encoded data removed]",
      "text/plain": [
       "<Figure size 432x288 with 1 Axes>"
      ]
     },
     "metadata": {},
     "output_type": "display_data"
    }
   ],
   "source": [
    "text_var = ('summary', 'reviewText')\n",
    "\n",
    "for i in text_var: \n",
    "    plt.figure()\n",
    "    plt.title(\"distribution of characters for {0}\".format(i))\n",
    "    data[i].drop_duplicates().apply(len).hist(bins = 50, range=(0,500))\n",
    "    plt.plot()\n",
    "    print(data[i].drop_duplicates().apply(len).describe())\n",
    "    print('------------------------------------------------')\n"
   ]
  },
  {
   "cell_type": "markdown",
   "metadata": {
    "colab_type": "text",
    "id": "n7R0nRofjjZ2"
   },
   "source": [
    "**Are there any numbers in the characters ?** "
   ]
  },
  {
   "cell_type": "code",
   "execution_count": 63,
   "metadata": {
    "colab": {
     "base_uri": "https://localhost:8080/",
     "height": 247
    },
    "colab_type": "code",
    "id": "OOIgkLwGjhwi",
    "outputId": "7b1d8f97-3eb9-4419-e626-9e09a21e023e"
   },
   "outputs": [
    {
     "data": {
      "text/html": [
       "<div>\n",
       "<style scoped>\n",
       "    .dataframe tbody tr th:only-of-type {\n",
       "        vertical-align: middle;\n",
       "    }\n",
       "\n",
       "    .dataframe tbody tr th {\n",
       "        vertical-align: top;\n",
       "    }\n",
       "\n",
       "    .dataframe thead th {\n",
       "        text-align: right;\n",
       "    }\n",
       "</style>\n",
       "<table border=\"1\" class=\"dataframe\">\n",
       "  <thead>\n",
       "    <tr style=\"text-align: right;\">\n",
       "      <th></th>\n",
       "      <th>ints%</th>\n",
       "      <th>floats%</th>\n",
       "      <th>percents%</th>\n",
       "      <th>years%</th>\n",
       "      <th>summary</th>\n",
       "    </tr>\n",
       "  </thead>\n",
       "  <tbody>\n",
       "    <tr>\n",
       "      <th>0</th>\n",
       "      <td>0.0</td>\n",
       "      <td>0.0</td>\n",
       "      <td>0.0</td>\n",
       "      <td>0.0</td>\n",
       "      <td>Four Stars</td>\n",
       "    </tr>\n",
       "    <tr>\n",
       "      <th>1</th>\n",
       "      <td>0.0</td>\n",
       "      <td>0.0</td>\n",
       "      <td>0.0</td>\n",
       "      <td>0.0</td>\n",
       "      <td>My current favorite go-to guide for inspiration</td>\n",
       "    </tr>\n",
       "    <tr>\n",
       "      <th>2</th>\n",
       "      <td>0.0</td>\n",
       "      <td>0.0</td>\n",
       "      <td>0.0</td>\n",
       "      <td>0.0</td>\n",
       "      <td>lots of great examples, good instructions, col...</td>\n",
       "    </tr>\n",
       "  </tbody>\n",
       "</table>\n",
       "</div>"
      ],
      "text/plain": [
       "   ints%  floats%  percents%  years%  \\\n",
       "0    0.0      0.0        0.0     0.0   \n",
       "1    0.0      0.0        0.0     0.0   \n",
       "2    0.0      0.0        0.0     0.0   \n",
       "\n",
       "                                             summary  \n",
       "0                                         Four Stars  \n",
       "1    My current favorite go-to guide for inspiration  \n",
       "2  lots of great examples, good instructions, col...  "
      ]
     },
     "execution_count": 63,
     "metadata": {},
     "output_type": "execute_result"
    }
   ],
   "source": [
    "import re\n",
    "\n",
    "# Regular expression that matches any sequence of numbers:\n",
    "int_prog = re.compile('[0-9]+')\n",
    "float_prog = re.compile('[0-9]+\\.?[0-9]*')\n",
    "percent_prog = re.compile('[0-9]+\\.?[0-9]*%')\n",
    "year_prog = re.compile('[12][089][0-9][0-9]') \n",
    "df1 = data.drop_duplicates('summary')  \n",
    "\n",
    "# Calculating number of matches for every abstract\n",
    "progs = [int_prog, float_prog, percent_prog, year_prog]\n",
    "nb_types = ['ints', 'floats', 'percents', 'years']\n",
    "nb_percent_types = [''.join([t, '%']) for t in nb_types]\n",
    "\n",
    "\n",
    "for prog, nb_type in zip(progs, nb_percent_types):\n",
    "    df1[nb_type] = df1['summary'].apply(lambda x: 100 *(1 - len(''.join(prog.split(x)))/len(x))).array\n",
    "\n",
    "df1[nb_percent_types+['summary']].head(3)"
   ]
  },
  {
   "cell_type": "code",
   "execution_count": 64,
   "metadata": {
    "colab": {
     "base_uri": "https://localhost:8080/",
     "height": 264
    },
    "colab_type": "code",
    "id": "H-poOjRyjvjF",
    "outputId": "3a971e7d-e2ef-414d-cd87-b9eebe2d99c2"
   },
   "outputs": [
    {
     "data": {
      "text/html": [
       "<div>\n",
       "<style scoped>\n",
       "    .dataframe tbody tr th:only-of-type {\n",
       "        vertical-align: middle;\n",
       "    }\n",
       "\n",
       "    .dataframe tbody tr th {\n",
       "        vertical-align: top;\n",
       "    }\n",
       "\n",
       "    .dataframe thead th {\n",
       "        text-align: right;\n",
       "    }\n",
       "</style>\n",
       "<table border=\"1\" class=\"dataframe\">\n",
       "  <thead>\n",
       "    <tr style=\"text-align: right;\">\n",
       "      <th></th>\n",
       "      <th>ints%</th>\n",
       "      <th>floats%</th>\n",
       "      <th>percents%</th>\n",
       "      <th>years%</th>\n",
       "      <th>reviewText</th>\n",
       "    </tr>\n",
       "  </thead>\n",
       "  <tbody>\n",
       "    <tr>\n",
       "      <th>0</th>\n",
       "      <td>0.0</td>\n",
       "      <td>0.0</td>\n",
       "      <td>0.0</td>\n",
       "      <td>0.0</td>\n",
       "      <td>Contains some interesting stitches.</td>\n",
       "    </tr>\n",
       "    <tr>\n",
       "      <th>1</th>\n",
       "      <td>0.0</td>\n",
       "      <td>0.0</td>\n",
       "      <td>0.0</td>\n",
       "      <td>0.0</td>\n",
       "      <td>I'm a fairly experienced knitter of the one-co...</td>\n",
       "    </tr>\n",
       "    <tr>\n",
       "      <th>2</th>\n",
       "      <td>0.0</td>\n",
       "      <td>0.0</td>\n",
       "      <td>0.0</td>\n",
       "      <td>0.0</td>\n",
       "      <td>Great book but the index is terrible. Had to w...</td>\n",
       "    </tr>\n",
       "  </tbody>\n",
       "</table>\n",
       "</div>"
      ],
      "text/plain": [
       "   ints%  floats%  percents%  years%  \\\n",
       "0    0.0      0.0        0.0     0.0   \n",
       "1    0.0      0.0        0.0     0.0   \n",
       "2    0.0      0.0        0.0     0.0   \n",
       "\n",
       "                                          reviewText  \n",
       "0                Contains some interesting stitches.  \n",
       "1  I'm a fairly experienced knitter of the one-co...  \n",
       "2  Great book but the index is terrible. Had to w...  "
      ]
     },
     "execution_count": 64,
     "metadata": {},
     "output_type": "execute_result"
    }
   ],
   "source": [
    "df2 = data.drop_duplicates('reviewText')  \n",
    "\n",
    "for prog, nb_type in zip(progs, nb_percent_types):\n",
    "    df2[nb_type] = df2['reviewText'].apply(lambda x: 100 *(1 - len(''.join(prog.split(x)))/len(x))).array\n",
    "\n",
    "df2[nb_percent_types+['reviewText']].head(3)"
   ]
  },
  {
   "cell_type": "markdown",
   "metadata": {
    "colab_type": "text",
    "id": "mpYLbOmlj2d2"
   },
   "source": [
    "There is no numbers in our text variables so we won't have to add a step to remove them in our cleaning function."
   ]
  },
  {
   "cell_type": "markdown",
   "metadata": {},
   "source": [
    "<a id='part_2'></a>"
   ]
  },
  {
   "cell_type": "markdown",
   "metadata": {
    "colab_type": "text",
    "id": "MWxRRu9XFsH-"
   },
   "source": [
    "# II - Tokenization steps"
   ]
  },
  {
   "cell_type": "code",
   "execution_count": 65,
   "metadata": {
    "colab": {
     "base_uri": "https://localhost:8080/",
     "height": 68
    },
    "colab_type": "code",
    "id": "AeDHvVK7yqyq",
    "outputId": "d8e2d952-9a4e-4fcb-d7b9-262e33055136",
    "scrolled": true
   },
   "outputs": [
    {
     "name": "stderr",
     "output_type": "stream",
     "text": [
      "[nltk_data] Downloading package punkt to /Users/solene/nltk_data...\n",
      "[nltk_data]   Package punkt is already up-to-date!\n"
     ]
    },
    {
     "data": {
      "text/plain": [
       "True"
      ]
     },
     "execution_count": 65,
     "metadata": {},
     "output_type": "execute_result"
    }
   ],
   "source": [
    "import nltk\n",
    "from nltk.probability import FreqDist\n",
    "from nltk.tokenize import TreebankWordTokenizer as tok\n",
    "from nltk.tokenize import word_tokenize\n",
    "nltk.download('punkt')\n"
   ]
  },
  {
   "cell_type": "markdown",
   "metadata": {
    "colab_type": "text",
    "id": "rKpCDogIYil6"
   },
   "source": [
    "#### *Counting the frequency of words*"
   ]
  },
  {
   "cell_type": "code",
   "execution_count": 44,
   "metadata": {
    "colab": {},
    "colab_type": "code",
    "id": "_1PnWhXRO_mZ"
   },
   "outputs": [],
   "source": [
    "def freq_words(x, terms = 30):\n",
    "    all_words = ' '.join([text for text in x])\n",
    "    all_words = all_words.lower()\n",
    "    all_words = word_tokenize(all_words)\n",
    "\n",
    "    fdist = FreqDist(all_words)\n",
    "    words_df = pd.DataFrame({'word':list(fdist.keys()), 'count':list(fdist.values())})\n",
    "\n",
    "    # selecting top 20 most frequent words\n",
    "    d = words_df.nlargest(columns=\"count\", n = terms) \n",
    "    plt.figure(figsize=(30,5))\n",
    "    ax = sns.barplot(data=d, x= \"word\", y = \"count\")\n",
    "    ax.set(ylabel = 'Count')\n",
    "    plt.title('the top {0} frequent words in the {1} variable'.format(terms, x.name))\n",
    "    plt.show()"
   ]
  },
  {
   "cell_type": "code",
   "execution_count": 45,
   "metadata": {
    "colab": {
     "base_uri": "https://localhost:8080/",
     "height": 924
    },
    "colab_type": "code",
    "id": "tIWoYBk1UxCs",
    "outputId": "c86a591b-53e0-4fab-8c29-ce330faa49dd"
   },
   "outputs": [
    {
     "data": {
      "image/png": "[encoded data removed]",
      "text/plain": [
       "<Figure size 2160x360 with 1 Axes>"
      ]
     },
     "metadata": {},
     "output_type": "display_data"
    },
    {
     "name": "stdout",
     "output_type": "stream",
     "text": [
      "dropping duplicates : \n"
     ]
    },
    {
     "data": {
      "image/png": "[encoded data removed]",
      "text/plain": [
       "<Figure size 2160x360 with 1 Axes>"
      ]
     },
     "metadata": {},
     "output_type": "display_data"
    },
    {
     "name": "stdout",
     "output_type": "stream",
     "text": [
      "-------------------------------------\n"
     ]
    },
    {
     "data": {
      "image/png": "[encoded data removed]",
      "text/plain": [
       "<Figure size 2160x360 with 1 Axes>"
      ]
     },
     "metadata": {},
     "output_type": "display_data"
    },
    {
     "name": "stdout",
     "output_type": "stream",
     "text": [
      "dropping duplicates : \n"
     ]
    },
    {
     "data": {
      "image/png": "[encoded data removed]",
      "text/plain": [
       "<Figure size 2160x360 with 1 Axes>"
      ]
     },
     "metadata": {},
     "output_type": "display_data"
    },
    {
     "name": "stdout",
     "output_type": "stream",
     "text": [
      "-------------------------------------\n"
     ]
    }
   ],
   "source": [
    "for i in text_var:\n",
    "    freq_words(data[i], terms = 40)\n",
    "    print('dropping duplicates : ')\n",
    "    freq_words(data[i].drop_duplicates(), terms = 40)\n",
    "    print('-------------------------------------')"
   ]
  },
  {
   "cell_type": "markdown",
   "metadata": {
    "colab_type": "text",
    "id": "btnsY3VCHD6l"
   },
   "source": [
    "Conjunctions like `\"for\"`, tokens like `\"a\"`, `\"it\"`, `'m` and some punctuations are not useful at all. For our sentiment analysis model, we should have a clean dataset and remove unuseful tokens.\n",
    "\n",
    "We also have to lower the characters and do some other preprocessing. \n",
    "\n",
    "Some tokens like `\"!\"` may remain as they testify of a sentiment, either positive or negative. For now, we will drop them."
   ]
  },
  {
   "cell_type": "code",
   "execution_count": 66,
   "metadata": {
    "colab": {
     "base_uri": "https://localhost:8080/",
     "height": 51
    },
    "colab_type": "code",
    "id": "HPdlyr5DalFk",
    "outputId": "41274753-a0e9-4b4a-96a0-322f2c6a5b6a"
   },
   "outputs": [
    {
     "name": "stderr",
     "output_type": "stream",
     "text": [
      "[nltk_data] Downloading package stopwords to\n",
      "[nltk_data]     /Users/solene/nltk_data...\n",
      "[nltk_data]   Package stopwords is already up-to-date!\n"
     ]
    }
   ],
   "source": [
    "# Removing stopwords\n",
    "from string import punctuation\n",
    "\n",
    "nltk.download('stopwords')\n",
    "\n",
    "en_stop = set(nltk.corpus.stopwords.words('english'))\n",
    "to_be_removed = list(en_stop) + list(punctuation)\n"
   ]
  },
  {
   "cell_type": "code",
   "execution_count": 67,
   "metadata": {
    "colab": {
     "base_uri": "https://localhost:8080/",
     "height": 54
    },
    "colab_type": "code",
    "id": "NiZ5IXgyHVDF",
    "outputId": "e21f0b39-230b-4788-d302-92fe37e51a5d"
   },
   "outputs": [
    {
     "name": "stdout",
     "output_type": "stream",
     "text": [
      "['when', 'her', 'doesn', 'wouldn', 'both', 'he', 'm', 'we', 'this', 'no', 'a', 'until', \"isn't\", \"you're\", 'be', \"shan't\", \"wasn't\", 'again', 'that', 'do', 'then', 'before', 'own', 'hasn', 'had', 'further', \"should've\", 'out', 'not', \"don't\", 'those', 'through', 'y', 'being', \"didn't\", 'herself', 'up', 'there', \"mustn't\", 'have', 'aren', 'why', 'isn', 'himself', 't', 'off', \"aren't\", 'so', 'myself', 'their', \"hasn't\", 'between', 'itself', 'our', 'won', 'but', 'some', 'can', 'because', 'from', 'more', 'on', 'for', 'ma', 'ain', 'and', 'down', 'it', 'd', 'as', \"you'll\", 'hers', 'ourselves', 'where', 'to', 'over', 'i', 'nor', 'an', 'about', \"mightn't\", 'is', \"it's\", 's', 'here', 'once', 'were', \"that'll\", 'did', 'theirs', 'such', 'was', 'weren', 'each', 'should', 'am', \"hadn't\", 'having', 'its', 'or', 'they', 'the', 'by', 'she', 'hadn', 'him', 'too', 'whom', \"haven't\", \"needn't\", 'll', 'my', \"weren't\", 'under', 'does', 'been', 'with', 'after', 'at', 'just', 'what', 'has', 'in', 'same', 're', \"couldn't\", \"won't\", 'of', 'o', \"wouldn't\", 'mightn', 'into', 'now', 'yours', \"you'd\", 'me', 'shan', 'needn', 'only', 'wasn', 'yourself', 'during', 'which', 'ours', 'few', 'shouldn', \"shouldn't\", 'how', 'don', 'themselves', 'haven', 'doing', 'didn', 've', 'mustn', 'your', 'very', \"you've\", 'are', 'any', \"doesn't\", \"she's\", 'than', 'all', 'if', 'these', 'couldn', 'while', 'below', 'them', 'other', 'who', 'above', 'you', 'most', 'yourselves', 'his', 'will', 'against', '!', '\"', '#', '$', '%', '&', \"'\", '(', ')', '*', '+', ',', '-', '.', '/', ':', ';', '<', '=', '>', '?', '@', '[', '\\\\', ']', '^', '_', '`', '{', '|', '}', '~']\n"
     ]
    }
   ],
   "source": [
    "#we can change the list of stopwords : add words or reduce it if we want to keep some of them. \n",
    "print(to_be_removed)"
   ]
  },
  {
   "cell_type": "code",
   "execution_count": 68,
   "metadata": {
    "colab": {},
    "colab_type": "code",
    "id": "eMiA14ankiiz"
   },
   "outputs": [],
   "source": [
    "# Adding new stopwords \n",
    "new_stopwords = [\"n't\", \"'s\", '...']\n",
    "to_be_removed.extend(new_stopwords)"
   ]
  },
  {
   "cell_type": "code",
   "execution_count": 49,
   "metadata": {
    "colab": {},
    "colab_type": "code",
    "id": "H_YrhYfKukJM"
   },
   "outputs": [],
   "source": [
    "# Function that plots the most frequent words in a clean text variable\n",
    "# Clean variable: stopwords removed, and tokens starting with \" ' \" like \" 'm \" removed too\n",
    "\n",
    "def freq_words_clean(x, terms = 30):\n",
    "    all_words = ' '.join([text for text in x])\n",
    "    all_words = all_words.lower()\n",
    "    all_words = word_tokenize(all_words)\n",
    "    all_words = [word for word in all_words if not word in to_be_removed]\n",
    "    all_words = list(filter(lambda x:x[0]!=\"'\", all_words))\n",
    "\n",
    "\n",
    "    fdist = FreqDist(all_words)\n",
    "    words_df = pd.DataFrame({'word':list(fdist.keys()), 'count':list(fdist.values())})\n",
    "\n",
    "    # selecting top 20 most frequent words\n",
    "    d = words_df.nlargest(columns=\"count\", n = terms) \n",
    "    plt.figure(figsize=(30,5))\n",
    "    ax = sns.barplot(data=d, x= \"word\", y = \"count\")\n",
    "    ax.set(ylabel = 'Count')\n",
    "    plt.title('Clean version : the top {0} frequent words in the {1} variable'.format(terms, x.name))\n",
    "    plt.show()"
   ]
  },
  {
   "cell_type": "code",
   "execution_count": 50,
   "metadata": {
    "colab": {
     "base_uri": "https://localhost:8080/",
     "height": 436
    },
    "colab_type": "code",
    "id": "PJPsDiGsR3RD",
    "outputId": "f6aedffb-5429-49a0-93f3-9bcc28edc2e9"
   },
   "outputs": [
    {
     "data": {
      "image/png": "[encoded data removed]",
      "text/plain": [
       "<Figure size 2160x360 with 1 Axes>"
      ]
     },
     "metadata": {},
     "output_type": "display_data"
    },
    {
     "ename": "KeyboardInterrupt",
     "evalue": "",
     "output_type": "error",
     "traceback": [
      "\u001b[0;31m---------------------------------------------------------------------------\u001b[0m",
      "\u001b[0;31mKeyboardInterrupt\u001b[0m                         Traceback (most recent call last)",
      "\u001b[0;32m<ipython-input-50-a508c983df67>\u001b[0m in \u001b[0;36m<module>\u001b[0;34m\u001b[0m\n\u001b[1;32m      2\u001b[0m \u001b[0;34m\u001b[0m\u001b[0m\n\u001b[1;32m      3\u001b[0m \u001b[0;32mfor\u001b[0m \u001b[0mi\u001b[0m \u001b[0;32min\u001b[0m \u001b[0mtext_var\u001b[0m\u001b[0;34m:\u001b[0m\u001b[0;34m\u001b[0m\u001b[0;34m\u001b[0m\u001b[0m\n\u001b[0;32m----> 4\u001b[0;31m   \u001b[0mfreq_words_clean\u001b[0m\u001b[0;34m(\u001b[0m\u001b[0mdata\u001b[0m\u001b[0;34m[\u001b[0m\u001b[0mi\u001b[0m\u001b[0;34m]\u001b[0m\u001b[0;34m,\u001b[0m \u001b[0;36m20\u001b[0m\u001b[0;34m)\u001b[0m\u001b[0;34m\u001b[0m\u001b[0;34m\u001b[0m\u001b[0m\n\u001b[0m",
      "\u001b[0;32m<ipython-input-49-ff5e178160ab>\u001b[0m in \u001b[0;36mfreq_words_clean\u001b[0;34m(x, terms)\u001b[0m\n\u001b[1;32m      5\u001b[0m   \u001b[0mall_words\u001b[0m \u001b[0;34m=\u001b[0m \u001b[0;34m' '\u001b[0m\u001b[0;34m.\u001b[0m\u001b[0mjoin\u001b[0m\u001b[0;34m(\u001b[0m\u001b[0;34m[\u001b[0m\u001b[0mtext\u001b[0m \u001b[0;32mfor\u001b[0m \u001b[0mtext\u001b[0m \u001b[0;32min\u001b[0m \u001b[0mx\u001b[0m\u001b[0;34m]\u001b[0m\u001b[0;34m)\u001b[0m\u001b[0;34m\u001b[0m\u001b[0;34m\u001b[0m\u001b[0m\n\u001b[1;32m      6\u001b[0m   \u001b[0mall_words\u001b[0m \u001b[0;34m=\u001b[0m \u001b[0mall_words\u001b[0m\u001b[0;34m.\u001b[0m\u001b[0mlower\u001b[0m\u001b[0;34m(\u001b[0m\u001b[0;34m)\u001b[0m\u001b[0;34m\u001b[0m\u001b[0;34m\u001b[0m\u001b[0m\n\u001b[0;32m----> 7\u001b[0;31m   \u001b[0mall_words\u001b[0m \u001b[0;34m=\u001b[0m \u001b[0mword_tokenize\u001b[0m\u001b[0;34m(\u001b[0m\u001b[0mall_words\u001b[0m\u001b[0;34m)\u001b[0m\u001b[0;34m\u001b[0m\u001b[0;34m\u001b[0m\u001b[0m\n\u001b[0m\u001b[1;32m      8\u001b[0m   \u001b[0mall_words\u001b[0m \u001b[0;34m=\u001b[0m \u001b[0;34m[\u001b[0m\u001b[0mword\u001b[0m \u001b[0;32mfor\u001b[0m \u001b[0mword\u001b[0m \u001b[0;32min\u001b[0m \u001b[0mall_words\u001b[0m \u001b[0;32mif\u001b[0m \u001b[0;32mnot\u001b[0m \u001b[0mword\u001b[0m \u001b[0;32min\u001b[0m \u001b[0mto_be_removed\u001b[0m\u001b[0;34m]\u001b[0m\u001b[0;34m\u001b[0m\u001b[0;34m\u001b[0m\u001b[0m\n\u001b[1;32m      9\u001b[0m   \u001b[0mall_words\u001b[0m \u001b[0;34m=\u001b[0m \u001b[0mlist\u001b[0m\u001b[0;34m(\u001b[0m\u001b[0mfilter\u001b[0m\u001b[0;34m(\u001b[0m\u001b[0;32mlambda\u001b[0m \u001b[0mx\u001b[0m\u001b[0;34m:\u001b[0m\u001b[0mx\u001b[0m\u001b[0;34m[\u001b[0m\u001b[0;36m0\u001b[0m\u001b[0;34m]\u001b[0m\u001b[0;34m!=\u001b[0m\u001b[0;34m\"'\"\u001b[0m\u001b[0;34m,\u001b[0m \u001b[0mall_words\u001b[0m\u001b[0;34m)\u001b[0m\u001b[0;34m)\u001b[0m\u001b[0;34m\u001b[0m\u001b[0;34m\u001b[0m\u001b[0m\n",
      "\u001b[0;32m/anaconda3/lib/python3.6/site-packages/nltk/tokenize/__init__.py\u001b[0m in \u001b[0;36mword_tokenize\u001b[0;34m(text, language, preserve_line)\u001b[0m\n\u001b[1;32m    144\u001b[0m     \u001b[0msentences\u001b[0m \u001b[0;34m=\u001b[0m \u001b[0;34m[\u001b[0m\u001b[0mtext\u001b[0m\u001b[0;34m]\u001b[0m \u001b[0;32mif\u001b[0m \u001b[0mpreserve_line\u001b[0m \u001b[0;32melse\u001b[0m \u001b[0msent_tokenize\u001b[0m\u001b[0;34m(\u001b[0m\u001b[0mtext\u001b[0m\u001b[0;34m,\u001b[0m \u001b[0mlanguage\u001b[0m\u001b[0;34m)\u001b[0m\u001b[0;34m\u001b[0m\u001b[0;34m\u001b[0m\u001b[0m\n\u001b[1;32m    145\u001b[0m     return [\n\u001b[0;32m--> 146\u001b[0;31m         \u001b[0mtoken\u001b[0m \u001b[0;32mfor\u001b[0m \u001b[0msent\u001b[0m \u001b[0;32min\u001b[0m \u001b[0msentences\u001b[0m \u001b[0;32mfor\u001b[0m \u001b[0mtoken\u001b[0m \u001b[0;32min\u001b[0m \u001b[0m_treebank_word_tokenizer\u001b[0m\u001b[0;34m.\u001b[0m\u001b[0mtokenize\u001b[0m\u001b[0;34m(\u001b[0m\u001b[0msent\u001b[0m\u001b[0;34m)\u001b[0m\u001b[0;34m\u001b[0m\u001b[0;34m\u001b[0m\u001b[0m\n\u001b[0m\u001b[1;32m    147\u001b[0m     ]\n",
      "\u001b[0;32m/anaconda3/lib/python3.6/site-packages/nltk/tokenize/__init__.py\u001b[0m in \u001b[0;36m<listcomp>\u001b[0;34m(.0)\u001b[0m\n\u001b[1;32m    144\u001b[0m     \u001b[0msentences\u001b[0m \u001b[0;34m=\u001b[0m \u001b[0;34m[\u001b[0m\u001b[0mtext\u001b[0m\u001b[0;34m]\u001b[0m \u001b[0;32mif\u001b[0m \u001b[0mpreserve_line\u001b[0m \u001b[0;32melse\u001b[0m \u001b[0msent_tokenize\u001b[0m\u001b[0;34m(\u001b[0m\u001b[0mtext\u001b[0m\u001b[0;34m,\u001b[0m \u001b[0mlanguage\u001b[0m\u001b[0;34m)\u001b[0m\u001b[0;34m\u001b[0m\u001b[0;34m\u001b[0m\u001b[0m\n\u001b[1;32m    145\u001b[0m     return [\n\u001b[0;32m--> 146\u001b[0;31m         \u001b[0mtoken\u001b[0m \u001b[0;32mfor\u001b[0m \u001b[0msent\u001b[0m \u001b[0;32min\u001b[0m \u001b[0msentences\u001b[0m \u001b[0;32mfor\u001b[0m \u001b[0mtoken\u001b[0m \u001b[0;32min\u001b[0m \u001b[0m_treebank_word_tokenizer\u001b[0m\u001b[0;34m.\u001b[0m\u001b[0mtokenize\u001b[0m\u001b[0;34m(\u001b[0m\u001b[0msent\u001b[0m\u001b[0;34m)\u001b[0m\u001b[0;34m\u001b[0m\u001b[0;34m\u001b[0m\u001b[0m\n\u001b[0m\u001b[1;32m    147\u001b[0m     ]\n",
      "\u001b[0;32m/anaconda3/lib/python3.6/site-packages/nltk/tokenize/treebank.py\u001b[0m in \u001b[0;36mtokenize\u001b[0;34m(self, text, convert_parentheses, return_str)\u001b[0m\n\u001b[1;32m    138\u001b[0m \u001b[0;34m\u001b[0m\u001b[0m\n\u001b[1;32m    139\u001b[0m         \u001b[0;32mfor\u001b[0m \u001b[0mregexp\u001b[0m\u001b[0;34m,\u001b[0m \u001b[0msubstitution\u001b[0m \u001b[0;32min\u001b[0m \u001b[0mself\u001b[0m\u001b[0;34m.\u001b[0m\u001b[0mENDING_QUOTES\u001b[0m\u001b[0;34m:\u001b[0m\u001b[0;34m\u001b[0m\u001b[0;34m\u001b[0m\u001b[0m\n\u001b[0;32m--> 140\u001b[0;31m             \u001b[0mtext\u001b[0m \u001b[0;34m=\u001b[0m \u001b[0mregexp\u001b[0m\u001b[0;34m.\u001b[0m\u001b[0msub\u001b[0m\u001b[0;34m(\u001b[0m\u001b[0msubstitution\u001b[0m\u001b[0;34m,\u001b[0m \u001b[0mtext\u001b[0m\u001b[0;34m)\u001b[0m\u001b[0;34m\u001b[0m\u001b[0;34m\u001b[0m\u001b[0m\n\u001b[0m\u001b[1;32m    141\u001b[0m \u001b[0;34m\u001b[0m\u001b[0m\n\u001b[1;32m    142\u001b[0m         \u001b[0;32mfor\u001b[0m \u001b[0mregexp\u001b[0m \u001b[0;32min\u001b[0m \u001b[0mself\u001b[0m\u001b[0;34m.\u001b[0m\u001b[0mCONTRACTIONS2\u001b[0m\u001b[0;34m:\u001b[0m\u001b[0;34m\u001b[0m\u001b[0;34m\u001b[0m\u001b[0m\n",
      "\u001b[0;31mKeyboardInterrupt\u001b[0m: "
     ]
    }
   ],
   "source": [
    "# What are the top 20 words in our clean text variables ? \n",
    "text_var = ('summary', 'reviewText')\n",
    "for i in text_var: \n",
    "    freq_words_clean(data[i], 20)\n"
   ]
  },
  {
   "cell_type": "markdown",
   "metadata": {
    "colab_type": "text",
    "id": "JGGfeADqXVil"
   },
   "source": [
    "We can also lemmatize the tokens to boost the efficiency for our model."
   ]
  },
  {
   "cell_type": "markdown",
   "metadata": {},
   "source": [
    "<a id='part_3'></a>"
   ]
  },
  {
   "cell_type": "markdown",
   "metadata": {
    "colab_type": "text",
    "id": "78Tm3wYom-WE"
   },
   "source": [
    "# III - Sentiment analysis models"
   ]
  },
  {
   "cell_type": "code",
   "execution_count": 1,
   "metadata": {
    "colab": {},
    "colab_type": "code",
    "id": "RekfOQ4dsKpA"
   },
   "outputs": [],
   "source": [
    "# Clean corpus\n",
    "def clean_corpus(df):\n",
    "    words = []\n",
    "    for i in range(0,len(df)):\n",
    "        all_words = df[i].lower()\n",
    "        all_words = word_tokenize(all_words)\n",
    "        all_words = [word for word in all_words if not word in to_be_removed]\n",
    "        all_words = list(filter(lambda x:x[0]!=\"'\", all_words))\n",
    "        all_words = ' '.join([text for text in all_words])\n",
    "        words.append(all_words)\n",
    "    return words"
   ]
  },
  {
   "cell_type": "code",
   "execution_count": null,
   "metadata": {},
   "outputs": [],
   "source": [
    "# Cleaning reviews \n",
    "data['reviewText'] = clean_corpus(data.reviewText)"
   ]
  },
  {
   "cell_type": "code",
   "execution_count": null,
   "metadata": {},
   "outputs": [],
   "source": [
    "# Cleaning summaries \n",
    "data['summary'] = clean_corpus(data.summary)"
   ]
  },
  {
   "cell_type": "code",
   "execution_count": 2,
   "metadata": {
    "colab": {},
    "colab_type": "code",
    "id": "e4yTjU8ql_zJ"
   },
   "outputs": [
    {
     "ename": "NameError",
     "evalue": "name 'data' is not defined",
     "output_type": "error",
     "traceback": [
      "\u001b[0;31m---------------------------------------------------------------------------\u001b[0m",
      "\u001b[0;31mNameError\u001b[0m                                 Traceback (most recent call last)",
      "\u001b[0;32m<ipython-input-2-7bcd677f1cf1>\u001b[0m in \u001b[0;36m<module>\u001b[0;34m\u001b[0m\n\u001b[0;32m----> 1\u001b[0;31m \u001b[0my\u001b[0m \u001b[0;34m=\u001b[0m \u001b[0mdata\u001b[0m\u001b[0;34m.\u001b[0m\u001b[0mlabel\u001b[0m\u001b[0;34m\u001b[0m\u001b[0;34m\u001b[0m\u001b[0m\n\u001b[0m",
      "\u001b[0;31mNameError\u001b[0m: name 'data' is not defined"
     ]
    }
   ],
   "source": [
    "y = data.label"
   ]
  },
  {
   "cell_type": "code",
   "execution_count": null,
   "metadata": {},
   "outputs": [],
   "source": [
    "from sklearn.feature_extraction.text import TfidfVectorizer, CountVectorizer\n",
    "\n",
    "vectorizer = TfidfVectorizer()\n",
    "cv = CountVectorizer()"
   ]
  },
  {
   "cell_type": "markdown",
   "metadata": {},
   "source": [
    "<a id='part_3_1'></a>"
   ]
  },
  {
   "cell_type": "markdown",
   "metadata": {
    "colab_type": "text",
    "id": "v7X5PwUbi5Qm"
   },
   "source": [
    "## 1. K-means for a priori vizualisation\n"
   ]
  },
  {
   "cell_type": "code",
   "execution_count": null,
   "metadata": {},
   "outputs": [],
   "source": [
    "# Using bag-of-words features\n",
    "X_rev = cv.fit_transform(data.reviewText)\n",
    "X_sum = cv.fit_transform(data.summary)"
   ]
  },
  {
   "cell_type": "markdown",
   "metadata": {
    "colab": {},
    "colab_type": "code",
    "id": "z3i-NaGg2L30"
   },
   "source": [
    "We can better tune this bag-of-words vectorization by adding more parameters (`ngram`, `df_min`, etc). However, our goal here is to simply have a visual  unsupervised classification of our two text variables. "
   ]
  },
  {
   "cell_type": "markdown",
   "metadata": {},
   "source": [
    "### a) K-means for our `summary` variable"
   ]
  },
  {
   "cell_type": "code",
   "execution_count": 10,
   "metadata": {},
   "outputs": [
    {
     "ename": "NameError",
     "evalue": "name 'X_sum' is not defined",
     "output_type": "error",
     "traceback": [
      "\u001b[0;31m---------------------------------------------------------------------------\u001b[0m",
      "\u001b[0;31mNameError\u001b[0m                                 Traceback (most recent call last)",
      "\u001b[0;32m<ipython-input-10-adf85e71602f>\u001b[0m in \u001b[0;36m<module>\u001b[0;34m\u001b[0m\n\u001b[1;32m      1\u001b[0m \u001b[0;32mfrom\u001b[0m \u001b[0msklearn\u001b[0m\u001b[0;34m.\u001b[0m\u001b[0mcluster\u001b[0m \u001b[0;32mimport\u001b[0m \u001b[0mKMeans\u001b[0m\u001b[0;34m\u001b[0m\u001b[0;34m\u001b[0m\u001b[0m\n\u001b[0;32m----> 2\u001b[0;31m \u001b[0mkmeans\u001b[0m \u001b[0;34m=\u001b[0m \u001b[0mKMeans\u001b[0m\u001b[0;34m(\u001b[0m\u001b[0mn_clusters\u001b[0m\u001b[0;34m=\u001b[0m\u001b[0;36m3\u001b[0m\u001b[0;34m,\u001b[0m \u001b[0mrandom_state\u001b[0m\u001b[0;34m=\u001b[0m\u001b[0;36m42\u001b[0m\u001b[0;34m,\u001b[0m \u001b[0mn_init\u001b[0m\u001b[0;34m=\u001b[0m\u001b[0;36m20\u001b[0m\u001b[0;34m,\u001b[0m \u001b[0mmax_iter\u001b[0m\u001b[0;34m=\u001b[0m\u001b[0;36m1000\u001b[0m\u001b[0;34m,\u001b[0m \u001b[0mverbose\u001b[0m\u001b[0;34m=\u001b[0m\u001b[0;36m0\u001b[0m\u001b[0;34m)\u001b[0m\u001b[0;34m.\u001b[0m\u001b[0mfit\u001b[0m\u001b[0;34m(\u001b[0m\u001b[0mX_sum\u001b[0m\u001b[0;34m)\u001b[0m\u001b[0;34m\u001b[0m\u001b[0;34m\u001b[0m\u001b[0m\n\u001b[0m\u001b[1;32m      3\u001b[0m \u001b[0mclusters\u001b[0m \u001b[0;34m=\u001b[0m \u001b[0mkmeans\u001b[0m\u001b[0;34m.\u001b[0m\u001b[0mpredict\u001b[0m\u001b[0;34m(\u001b[0m\u001b[0mX_sum\u001b[0m\u001b[0;34m)\u001b[0m\u001b[0;34m\u001b[0m\u001b[0;34m\u001b[0m\u001b[0m\n",
      "\u001b[0;31mNameError\u001b[0m: name 'X_sum' is not defined"
     ]
    }
   ],
   "source": [
    "from sklearn.cluster import KMeans\n",
    "kmeans = KMeans(n_clusters=3, random_state=42, n_init=20, max_iter=1000, verbose=0).fit(X_sum)\n",
    "clusters = kmeans.predict(X_sum)"
   ]
  },
  {
   "cell_type": "code",
   "execution_count": null,
   "metadata": {},
   "outputs": [],
   "source": [
    "from sklearn.manifold import TSNE\n",
    "tsne = TSNE(n_components=2, verbose=1, perplexity=30, learning_rate=100.0, early_exaggeration=2., n_iter=250)\n",
    "X_tsne = tsne.fit_transform(X_sum[0:50000])"
   ]
  },
  {
   "cell_type": "code",
   "execution_count": null,
   "metadata": {},
   "outputs": [],
   "source": [
    "import plotly.express as px\n",
    "import plotly.graph_objects as go\n",
    "import numpy as np\n",
    "\n",
    "\n",
    "mapColors = {0:'lightseagreen', 1:'blueviolet', 2:'tomato'}\n",
    "#mapSentColors = {'positive':'lightseagreen', 'neutral':'blueviolet', 'negative':'tomato'}\n",
    "colorsClusters = [mapColors[c] for c in clusters]\n",
    "#colorsSentiment = [mapSentColors[s] for s in dfTweets.airline_sentiment]\n",
    "\n",
    "fig = go.Figure(data=go.Scatter(\n",
    "    x = X_tsne[:, 0],\n",
    "    y = X_tsne[:, 1],\n",
    "    hovertext = list(zip(data.summary[0:100000], data.overall[0:100000])),\n",
    "    mode='markers+text',\n",
    "    marker=dict(\n",
    "        size=4,\n",
    "        color=colorsClusters, # colorsClusters or colorsSentiment\n",
    "        colorscale='Viridis',\n",
    "        showscale=True,\n",
    "    )\n",
    "))\n",
    "fig.show()"
   ]
  },
  {
   "cell_type": "markdown",
   "metadata": {},
   "source": [
    "This a priori vizualisation with k-means is very unsatisfactory: the clustering doesn't seem to be based on positive or negative reviews. \n",
    "We can note that : there's a cluster with the `5 stars` reviews in the center of the plan.\n",
    "\n",
    "> The model may be implemented regarding the lemmas used, the lexical fields...\n",
    "\n",
    "> For our next models, we'll have to find the optimal word embedding for our models. They may vary regarding the model chosen.\n",
    "\n"
   ]
  },
  {
   "cell_type": "markdown",
   "metadata": {},
   "source": [
    "### b) K-means for our `reviewText` variable"
   ]
  },
  {
   "cell_type": "code",
   "execution_count": null,
   "metadata": {},
   "outputs": [],
   "source": [
    "from sklearn.cluster import KMeans\n",
    "kmeans = KMeans(n_clusters=3, random_state=42, n_init=20, max_iter=1000, verbose=0).fit(X_rev[0:10000])\n",
    "clusters = kmeans.predict(X_rev[0:10000])"
   ]
  },
  {
   "cell_type": "code",
   "execution_count": null,
   "metadata": {},
   "outputs": [],
   "source": [
    "tsne = TSNE(n_components=2, verbose=1, perplexity=30, learning_rate=100.0, early_exaggeration=2., n_iter=250)\n",
    "X_tsne = tsne.fit_transform(X_rev[0:10000])"
   ]
  },
  {
   "cell_type": "code",
   "execution_count": null,
   "metadata": {},
   "outputs": [],
   "source": [
    "import plotly.express as px\n",
    "import plotly.graph_objects as go\n",
    "import numpy as np\n",
    "\n",
    "mapColors = {0:'lightseagreen', 1:'blueviolet', 2:'tomato'}\n",
    "#mapSentColors = {'positive':'lightseagreen', 'neutral':'blueviolet', 'negative':'tomato'}\n",
    "colorsClusters = [mapColors[c] for c in clusters]\n",
    "#colorsSentiment = [mapSentColors[s] for s in dfTweets.airline_sentiment]\n",
    "\n",
    "\n",
    "fig = go.Figure(data=go.Scatter(\n",
    "    x = X_tsne[:, 0],\n",
    "    y = X_tsne[:, 1],\n",
    "    hovertext = list(zip(data.reviewText[0:10000], data.label[0:10000])),\n",
    "    mode='markers+text',\n",
    "    marker=dict(\n",
    "        size=4,\n",
    "        color=colorsClusters, # colorsClusters or colorsSentiment\n",
    "        colorscale='Viridis',\n",
    "        showscale=True,\n",
    "    )\n",
    "))\n",
    "fig.show()\n",
    "    "
   ]
  },
  {
   "cell_type": "markdown",
   "metadata": {},
   "source": [
    "For computational efficiency, we didn't implement the k-means model on the whole dataset for the reviewText variable as it is a very dense input.  Our analysis of the output is the following: \n",
    "- The 2% data represented above following the k-means implementation surely doesn't reflect the sentiment analysis model we would like to construct. \n",
    "- After some analysis, it seems that this model rather focuses on the lexical field and the length of the reviewtext.\n",
    "  - for instance, the review data points in purple all seem to talk about `yarns`. \n",
    "  - we see again, as in the first representation of the summary variable, a sort of ellipsoide at the top front of the plot. Here, it seems that all the data points of this particular sample of the orange cluster have something in common: very short reviews compared to the rest. \n",
    "\n",
    "All in all, this k-means model is very unsatisfactory as the model built doesn't reflect at all the sentiment analysis but seems to be based on other patterns and characteristics of the text variables: lexical field, length of abstracts... \n",
    "One reason could be that it is highly unbalanced with more than 75% of positive reviews. \n",
    "\n",
    "Our next models will be more helpful for our sentiment classification task. "
   ]
  },
  {
   "cell_type": "markdown",
   "metadata": {},
   "source": [
    "<a id='part_3_2'></a>"
   ]
  },
  {
   "cell_type": "markdown",
   "metadata": {
    "colab_type": "text",
    "id": "5JMr4ZnZT0Gx"
   },
   "source": [
    "## 2. Logistic regression model"
   ]
  },
  {
   "cell_type": "markdown",
   "metadata": {
    "colab_type": "text",
    "id": "wo0eQ40mfry8"
   },
   "source": [
    "For high dimensional sparse data, Logistic Regression works well."
   ]
  },
  {
   "cell_type": "code",
   "execution_count": 11,
   "metadata": {},
   "outputs": [],
   "source": [
    "from sklearn.linear_model import LogisticRegression\n",
    "from sklearn.model_selection import train_test_split\n",
    "from sklearn.metrics import classification_report, confusion_matrix, f1_score\n",
    "from sklearn.feature_extraction.text import TfidfVectorizer, CountVectorizer\n",
    "\n",
    "vectorizer = TfidfVectorizer()"
   ]
  },
  {
   "cell_type": "markdown",
   "metadata": {},
   "source": [
    "### a) Standard Logistic regression "
   ]
  },
  {
   "cell_type": "markdown",
   "metadata": {},
   "source": [
    "We will compare the performance of the model :\n",
    "- using `tf_idf` \n",
    "- for the summary and reviewText variables."
   ]
  },
  {
   "cell_type": "markdown",
   "metadata": {},
   "source": [
    "#### **Logistic regression on the `summary` variable:**"
   ]
  },
  {
   "cell_type": "code",
   "execution_count": null,
   "metadata": {},
   "outputs": [],
   "source": [
    "X_train, X_devtest, y_train, y_devtest = train_test_split(X_sum, y, test_size=0.4, random_state=42)"
   ]
  },
  {
   "cell_type": "markdown",
   "metadata": {},
   "source": [
    "**Using `tf_idf` features** : \n",
    "words that are unique to a particular document will have higher weights compared to words that are used commonly across documents. "
   ]
  },
  {
   "cell_type": "code",
   "execution_count": null,
   "metadata": {},
   "outputs": [],
   "source": [
    "# Using tf-idf features \n",
    "\n",
    "X_train_tf = vectorizer.fit_transform(X_train)\n",
    "print(X_train_tf.shape)\n",
    "X_devtest_tf = vectorizer.transform(X_devtest)\n",
    "print(X_devtest_tf.shape)"
   ]
  },
  {
   "cell_type": "code",
   "execution_count": null,
   "metadata": {},
   "outputs": [],
   "source": [
    "from sklearn.model_selection import GridSearchCV\n",
    "\n",
    "param_grid = {'C': [0.001, 0.01, 0.1, 1, 10]}\n",
    "grid = GridSearchCV(LogisticRegression(), param_grid, cv=5)\n",
    "grid.fit(X_train_tf, y_train)"
   ]
  },
  {
   "cell_type": "code",
   "execution_count": null,
   "metadata": {},
   "outputs": [],
   "source": [
    "print(\"Best cross-validation score: {:.2f}\".format(grid.best_score_))\n",
    "print(\"Best parameters: \", grid.best_params_)\n",
    "print(\"Best estimator: \", grid.best_estimator_)"
   ]
  },
  {
   "cell_type": "code",
   "execution_count": null,
   "metadata": {},
   "outputs": [],
   "source": [
    "lr = grid.best_estimator_\n",
    "lr.fit(X_train_tf, y_train)"
   ]
  },
  {
   "cell_type": "code",
   "execution_count": null,
   "metadata": {},
   "outputs": [],
   "source": [
    "y_pred = lr.predict(X_devtest_tf)"
   ]
  },
  {
   "cell_type": "markdown",
   "metadata": {},
   "source": [
    "**Getting some evaluation metrics** (`F1-score`, `accuracy`, `precision`,`recall`...)"
   ]
  },
  {
   "cell_type": "code",
   "execution_count": 13,
   "metadata": {},
   "outputs": [],
   "source": [
    "def model_eval(y_true, y_pred):\n",
    "    \n",
    "    print( classification_report(y_true, y_pred) )\n",
    "    cm = confusion_matrix(y_devtest, y_pred) \n",
    "    labels = ['negative', 'neutral', 'positive']\n",
    "\n",
    "    df_cm = pd.DataFrame(cm, index=labels, columns=labels)\n",
    "  \n",
    "    # config plot sizes\n",
    "    sns.set(font_scale=1.2)\n",
    "    sns.heatmap(df_cm, annot=True, annot_kws={\"size\": 18}, linewidth=0.5, fmt=\"\")\n",
    "    score = lr.score(X_devtest_tf, y_devtest)\n",
    "    all_sample_title = 'Accuracy Score: {0}'.format(score)\n",
    "    plt.title(all_sample_title, size= 13)\n",
    "    plt.show()\n"
   ]
  },
  {
   "cell_type": "code",
   "execution_count": null,
   "metadata": {},
   "outputs": [],
   "source": [
    "model_eval(y_devtest, y_pred)"
   ]
  },
  {
   "cell_type": "markdown",
   "metadata": {},
   "source": [
    "\n",
    "The data is very unbalanced so the accuracy result is quite biaised. Confusion-matrix is good technique to summarize the performance of a classification algorithm in case of imbalanced classes.\n",
    "\n",
    "\n",
    "\n",
    "For our next models, now that the optimal logistic regression is trained with GridSearch, we create a function `logistic_regression` that will give us the performance of the model for text variables. \n"
   ]
  },
  {
   "cell_type": "code",
   "execution_count": 14,
   "metadata": {},
   "outputs": [
    {
     "ename": "NameError",
     "evalue": "name 'y' is not defined",
     "output_type": "error",
     "traceback": [
      "\u001b[0;31m---------------------------------------------------------------------------\u001b[0m",
      "\u001b[0;31mNameError\u001b[0m                                 Traceback (most recent call last)",
      "\u001b[0;32m<ipython-input-14-0533019a1672>\u001b[0m in \u001b[0;36m<module>\u001b[0;34m\u001b[0m\n\u001b[0;32m----> 1\u001b[0;31m \u001b[0;32mdef\u001b[0m \u001b[0mlogistic_regression\u001b[0m\u001b[0;34m(\u001b[0m\u001b[0mvar\u001b[0m\u001b[0;34m,\u001b[0m \u001b[0mtarget\u001b[0m \u001b[0;34m=\u001b[0m \u001b[0my\u001b[0m\u001b[0;34m,\u001b[0m \u001b[0mfeat\u001b[0m \u001b[0;34m=\u001b[0m \u001b[0mvectorizer\u001b[0m\u001b[0;34m)\u001b[0m\u001b[0;34m:\u001b[0m\u001b[0;34m\u001b[0m\u001b[0;34m\u001b[0m\u001b[0m\n\u001b[0m\u001b[1;32m      2\u001b[0m     \u001b[0mX_train\u001b[0m\u001b[0;34m,\u001b[0m \u001b[0mX_devtest\u001b[0m\u001b[0;34m,\u001b[0m \u001b[0my_train\u001b[0m\u001b[0;34m,\u001b[0m \u001b[0my_devtest\u001b[0m \u001b[0;34m=\u001b[0m \u001b[0mtrain_test_split\u001b[0m\u001b[0;34m(\u001b[0m\u001b[0mvar\u001b[0m\u001b[0;34m,\u001b[0m \u001b[0mtarget\u001b[0m\u001b[0;34m,\u001b[0m \u001b[0mtest_size\u001b[0m\u001b[0;34m=\u001b[0m\u001b[0;36m0.4\u001b[0m\u001b[0;34m,\u001b[0m \u001b[0mrandom_state\u001b[0m\u001b[0;34m=\u001b[0m\u001b[0;36m42\u001b[0m\u001b[0;34m)\u001b[0m\u001b[0;34m\u001b[0m\u001b[0;34m\u001b[0m\u001b[0m\n\u001b[1;32m      3\u001b[0m     \u001b[0mX_train_tf\u001b[0m \u001b[0;34m=\u001b[0m \u001b[0mfeat\u001b[0m\u001b[0;34m.\u001b[0m\u001b[0mfit_transform\u001b[0m\u001b[0;34m(\u001b[0m\u001b[0mX_train\u001b[0m\u001b[0;34m)\u001b[0m\u001b[0;34m\u001b[0m\u001b[0;34m\u001b[0m\u001b[0m\n\u001b[1;32m      4\u001b[0m     \u001b[0mX_devtest_tf\u001b[0m \u001b[0;34m=\u001b[0m \u001b[0mfeat\u001b[0m\u001b[0;34m.\u001b[0m\u001b[0mtransform\u001b[0m\u001b[0;34m(\u001b[0m\u001b[0mX_devtest\u001b[0m\u001b[0;34m)\u001b[0m\u001b[0;34m\u001b[0m\u001b[0;34m\u001b[0m\u001b[0m\n\u001b[1;32m      5\u001b[0m \u001b[0;34m\u001b[0m\u001b[0m\n",
      "\u001b[0;31mNameError\u001b[0m: name 'y' is not defined"
     ]
    }
   ],
   "source": [
    "def logistic_regression(var, target = y, feat = vectorizer):\n",
    "    X_train, X_devtest, y_train, y_devtest = train_test_split(var, target, test_size=0.4, random_state=42)\n",
    "    X_train_tf = feat.fit_transform(X_train)\n",
    "    X_devtest_tf = feat.transform(X_devtest)\n",
    "    \n",
    "    lr.fit(X_train_tf, y_train)\n",
    "    y_pred = lr.predict(X_devtest_tf)\n",
    "    print('training score = ', lr.score(X_train_tf, y_train))\n",
    "    print('test score = ', lr.score(X_devtest_tf, y_devtest))\n",
    "    \n",
    "    return(model_eval(y_devtest, y_pred))"
   ]
  },
  {
   "cell_type": "markdown",
   "metadata": {},
   "source": [
    "#### **Logistic regression on the `reviewText` variable**"
   ]
  },
  {
   "cell_type": "code",
   "execution_count": null,
   "metadata": {},
   "outputs": [],
   "source": [
    "logistic_regression(data.reviewText)"
   ]
  },
  {
   "cell_type": "markdown",
   "metadata": {},
   "source": [
    "**Conclusion**: It seems harder for the model to classify the complete reviews than the summary. This is quite surprising : one may have thought it would be easier as there is more content in the `reviewText`. Yet, the reason relies maybe on the fact that it's more noisy and less straight-to-the point compared to the `summary` variable. \n",
    "\n",
    "One may note the model generalizes quite well as there isn't a big difference between the train score and the test score."
   ]
  },
  {
   "cell_type": "markdown",
   "metadata": {},
   "source": [
    "### b) Let's finetune the Logistic Regression model. "
   ]
  },
  {
   "cell_type": "markdown",
   "metadata": {},
   "source": [
    "For sake of efficiency and computational costs, we will:\n",
    "- focus on a fraction of the dataset \n",
    "- use oversampling methods to tackle the issue of unbalanced data"
   ]
  },
  {
   "cell_type": "markdown",
   "metadata": {},
   "source": [
    "*Note: We will oversample after splitting the data. Indeed, it would otherwise allow the exact same observations to be present in both the test and train sets. Hence the model would simply memorize specific data points and cause overfitting and poor generalization to the test data.*"
   ]
  },
  {
   "cell_type": "code",
   "execution_count": null,
   "metadata": {},
   "outputs": [],
   "source": [
    "# Focus on 10% of the data\n",
    "data_sample = data.sample(frac= 0.1, replace=False, random_state=1)\n",
    "#data_sample = data_sample.reset_index() #to avoid problems for the clean_corpus function\n",
    "#data_sample.head(3)"
   ]
  },
  {
   "cell_type": "code",
   "execution_count": 16,
   "metadata": {},
   "outputs": [],
   "source": [
    "# Oversampling \n",
    "\n",
    "from sklearn.utils import resample\n",
    "\n",
    "def oversampling_frac(x_train, Y_train, prop = 1):\n",
    "    'returns a balanced dataset'\n",
    "    d = {'text':x_train,'label':list(Y_train)}\n",
    "    df = pd.DataFrame(d)\n",
    "    \n",
    "    #separate positive to other classes\n",
    "    positive = df[df.label == 'positive']\n",
    "    minority = df[df.label.isin(['negative', 'neutral'])] \n",
    "    \n",
    "    minority_upsampled = resample(minority,\n",
    "                            replace=True, # sample with replacement\n",
    "                            n_samples=2*len(positive), # match number in majority class\n",
    "                            random_state=27) \n",
    "    upsampled = pd.concat([positive, minority_upsampled])\n",
    "    X  = list(upsampled.text)\n",
    "    Y = upsampled.label\n",
    "    return X,Y\n"
   ]
  },
  {
   "cell_type": "code",
   "execution_count": null,
   "metadata": {},
   "outputs": [],
   "source": [
    "data.label.value_counts(normalize=True)"
   ]
  },
  {
   "cell_type": "code",
   "execution_count": null,
   "metadata": {},
   "outputs": [],
   "source": [
    "logreg_finetuned(data_sample.summary, goal = 'description')"
   ]
  },
  {
   "cell_type": "markdown",
   "metadata": {},
   "source": [
    "The dataset is now better balanced. "
   ]
  },
  {
   "cell_type": "code",
   "execution_count": 17,
   "metadata": {},
   "outputs": [
    {
     "ename": "NameError",
     "evalue": "name 'data_sample' is not defined",
     "output_type": "error",
     "traceback": [
      "\u001b[0;31m---------------------------------------------------------------------------\u001b[0m",
      "\u001b[0;31mNameError\u001b[0m                                 Traceback (most recent call last)",
      "\u001b[0;32m<ipython-input-17-47e1395b31ea>\u001b[0m in \u001b[0;36m<module>\u001b[0;34m\u001b[0m\n\u001b[0;32m----> 1\u001b[0;31m \u001b[0;32mdef\u001b[0m \u001b[0mlogreg_finetuned\u001b[0m\u001b[0;34m(\u001b[0m\u001b[0mdata\u001b[0m\u001b[0;34m,\u001b[0m \u001b[0mtarget\u001b[0m \u001b[0;34m=\u001b[0m \u001b[0mdata_sample\u001b[0m\u001b[0;34m.\u001b[0m\u001b[0mlabel\u001b[0m\u001b[0;34m,\u001b[0m \u001b[0mfeat\u001b[0m \u001b[0;34m=\u001b[0m \u001b[0mvectorizer\u001b[0m\u001b[0;34m,\u001b[0m \u001b[0mgoal\u001b[0m \u001b[0;34m=\u001b[0m \u001b[0;34m'model'\u001b[0m\u001b[0;34m)\u001b[0m\u001b[0;34m:\u001b[0m\u001b[0;34m\u001b[0m\u001b[0;34m\u001b[0m\u001b[0m\n\u001b[0m\u001b[1;32m      2\u001b[0m     \u001b[0mx_train\u001b[0m\u001b[0;34m,\u001b[0m \u001b[0mX_devtest\u001b[0m\u001b[0;34m,\u001b[0m \u001b[0mY_train\u001b[0m\u001b[0;34m,\u001b[0m \u001b[0my_devtest\u001b[0m \u001b[0;34m=\u001b[0m \u001b[0mtrain_test_split\u001b[0m\u001b[0;34m(\u001b[0m\u001b[0mdata\u001b[0m\u001b[0;34m,\u001b[0m \u001b[0mtarget\u001b[0m\u001b[0;34m,\u001b[0m \u001b[0mtest_size\u001b[0m\u001b[0;34m=\u001b[0m\u001b[0;36m0.4\u001b[0m\u001b[0;34m,\u001b[0m \u001b[0mrandom_state\u001b[0m\u001b[0;34m=\u001b[0m\u001b[0;36m42\u001b[0m\u001b[0;34m)\u001b[0m\u001b[0;34m\u001b[0m\u001b[0;34m\u001b[0m\u001b[0m\n\u001b[1;32m      3\u001b[0m     \u001b[0mX_train\u001b[0m \u001b[0;34m=\u001b[0m \u001b[0moversampling_frac\u001b[0m\u001b[0;34m(\u001b[0m\u001b[0mx_train\u001b[0m\u001b[0;34m,\u001b[0m \u001b[0mY_train\u001b[0m\u001b[0;34m)\u001b[0m\u001b[0;34m[\u001b[0m\u001b[0;36m0\u001b[0m\u001b[0;34m]\u001b[0m\u001b[0;34m\u001b[0m\u001b[0;34m\u001b[0m\u001b[0m\n\u001b[1;32m      4\u001b[0m     \u001b[0my_train\u001b[0m \u001b[0;34m=\u001b[0m \u001b[0moversampling_frac\u001b[0m\u001b[0;34m(\u001b[0m\u001b[0mx_train\u001b[0m\u001b[0;34m,\u001b[0m \u001b[0mY_train\u001b[0m\u001b[0;34m)\u001b[0m\u001b[0;34m[\u001b[0m\u001b[0;36m1\u001b[0m\u001b[0;34m]\u001b[0m\u001b[0;34m\u001b[0m\u001b[0;34m\u001b[0m\u001b[0m\n\u001b[1;32m      5\u001b[0m \u001b[0;34m\u001b[0m\u001b[0m\n",
      "\u001b[0;31mNameError\u001b[0m: name 'data_sample' is not defined"
     ]
    }
   ],
   "source": [
    "def logreg_finetuned(data, target = data_sample.label, feat = vectorizer, goal = 'model'):\n",
    "    x_train, X_devtest, Y_train, y_devtest = train_test_split(data, target, test_size=0.4, random_state=42)\n",
    "    X_train = oversampling_frac(x_train, Y_train)[0]\n",
    "    y_train = oversampling_frac(x_train, Y_train)[1]\n",
    "    \n",
    "    if goal == 'description':\n",
    "        return oversampling_frac(x_train, Y_train)[1].value_counts(normalize =True)\n",
    "    else: \n",
    "        X_train_tf = feat.fit_transform(X_train)\n",
    "        X_devtest_tf = feat.transform(X_devtest)\n",
    "        \n",
    "        lr.fit(X_train_tf, y_train) # lr = grid best params \n",
    "        y_pred = lr.predict(X_devtest_tf)\n",
    "        print('training score = ', lr.score(X_train_tf, y_train))\n",
    "        print('test score = ', lr.score(X_devtest_tf, y_devtest))\n",
    "\n",
    "        #model_eval function:\n",
    "        labels = ['negative', 'neutral', 'positive']\n",
    "        df_cm = pd.DataFrame(cm, index=labels, columns=labels)\n",
    "        sns.set(font_scale=1.2)\n",
    "        sns.heatmap(df_cm, annot=True, annot_kws={\"size\": 18}, linewidth=0.5, fmt=\"\")\n",
    "        score = lr.score(X_devtest_tf, y_devtest)\n",
    "        all_sample_title = 'Accuracy Score: {0}'.format(score)\n",
    "        plt.title(all_sample_title, size= 13)\n",
    "        plt.show()"
   ]
  },
  {
   "cell_type": "code",
   "execution_count": null,
   "metadata": {},
   "outputs": [],
   "source": [
    "logreg_finetuned(data_sample.summary)"
   ]
  },
  {
   "cell_type": "markdown",
   "metadata": {},
   "source": [
    "We notice that there's overfitting with the fine-tuned model. Hence the results are even less satisfactory than with the standard logistic regression. \n",
    "\n",
    "\n",
    "A conclusion might be that **we need the real proportion of positive, negative and neutral reviews for the model to perform well.**\n",
    "\n",
    "Let's see if we can draw the same conclusion for the `reviewText` variable."
   ]
  },
  {
   "cell_type": "code",
   "execution_count": null,
   "metadata": {},
   "outputs": [],
   "source": [
    "logreg_finetuned(data_sample.reviewText)"
   ]
  },
  {
   "cell_type": "markdown",
   "metadata": {},
   "source": [
    "Hence we can see that there's still overfitting with the `reviewText` variable. Also, as noticed in the first general logistic regression model (part a),  the accuracy for the test sample is better for the summary `variable` (6 points above).\n",
    "\n",
    "**We can conclude that:** \n",
    "- Logistic Regression models performs better with succinct text variables like titles of a review, summary of a review... The more text there is in a column, the more \"noisy\" it is and despite our `clean_corpus` function step where stopwords, punctuation are removed, the performance of the model on dense data is very weak.\n",
    "- With big surprise, the performance of the fine-tuned model is even weaker than the standardized, regular Logistic Regression. Our data was unbalanced with more than 75% of positive data. After oversampling to reach a balanced dataset (approximately 1:1:1 ratio), we notice some **overfitting** effects which were not present before. Moreover, there is not such a gain in accuracy with the fine-tuned model (less than 5 points difference). \n",
    "\n"
   ]
  },
  {
   "cell_type": "markdown",
   "metadata": {},
   "source": [
    "<a id='part_3_3'></a>"
   ]
  },
  {
   "cell_type": "markdown",
   "metadata": {},
   "source": [
    "## 3 - Deep Learning models "
   ]
  },
  {
   "cell_type": "markdown",
   "metadata": {},
   "source": [
    "In this part, words are indexed and represented as 1-hot vectors and we will use embeddings as input in all our Deep NLP models. We will keep 50 as embedding dimension. "
   ]
  },
  {
   "cell_type": "markdown",
   "metadata": {},
   "source": [
    "### a. Preparing the data "
   ]
  },
  {
   "cell_type": "code",
   "execution_count": 199,
   "metadata": {},
   "outputs": [],
   "source": [
    "def prepare_data(df, text, frac_sample_size) : \n",
    "    \n",
    "    # Convert the label to int\n",
    "    label_int = [0 if df.overall[i] == 5 else 1 if df.overall[i] == 4 else 2 for i in range(len(df.overall))]\n",
    "    df['label_int'] = label_int\n",
    "    \n",
    "    # Clean the text variable \n",
    "    \n",
    "    if text == \"reviewText\": \n",
    "        df_sample = df.sample(frac=frac_sample_size, replace=False, random_state=1) # Get a sample of the data\n",
    "       \n",
    "        X = df_sample[\"reviewText\"]\n",
    "        y = df_sample[\"label_int\"]\n",
    "        \n",
    "        X_train_raw, X_test_raw, y_train_raw, y_test_raw = train_test_split(X, y, test_size=0.4, random_state=42)\n",
    "        \n",
    "        \n",
    "    else : \n",
    "        df_sample = df.sample(frac=frac_sample_size, replace=False, random_state=1) # Get a sample of the data\n",
    "       \n",
    "        X = df_sample[\"summary\"]\n",
    "        y = df_sample[\"label_int\"]\n",
    "        \n",
    "        X_train_raw, X_test_raw, y_train_raw, y_test_raw = train_test_split(X, y, test_size=0.4, random_state=42)\n",
    "        \n",
    "        \n",
    "        \n",
    "    return X_train_raw, X_test_raw, y_train_raw, y_test_raw\n",
    "        "
   ]
  },
  {
   "cell_type": "code",
   "execution_count": 246,
   "metadata": {},
   "outputs": [],
   "source": [
    "X_train_raw, X_test_raw, y_train_raw, y_test_raw = prepare_data(df = data, text = \"reviewText\", \n",
    "                                                                     frac_sample_size = 0.05)"
   ]
  },
  {
   "cell_type": "code",
   "execution_count": 247,
   "metadata": {},
   "outputs": [
    {
     "name": "stdout",
     "output_type": "stream",
     "text": [
      "Found 13808 unique tokens.\n"
     ]
    }
   ],
   "source": [
    "from keras.preprocessing.text import Tokenizer\n",
    "MAX_NB_WORDS = 20000\n",
    "\n",
    "# finally, vectorize the text samples into a 2D integer tensor\n",
    "tokenizer = Tokenizer(nb_words=MAX_NB_WORDS, char_level=False)\n",
    "tokenizer.fit_on_texts(X_train_raw)\n",
    "\n",
    "sequences = tokenizer.texts_to_sequences(X_train_raw)\n",
    "sequences_test = tokenizer.texts_to_sequences(X_test_raw)\n",
    "\n",
    "word_index = tokenizer.word_index\n",
    "print('Found %s unique tokens.' % len(word_index))"
   ]
  },
  {
   "cell_type": "code",
   "execution_count": 248,
   "metadata": {},
   "outputs": [
    {
     "name": "stdout",
     "output_type": "stream",
     "text": [
      "average length: 16.0\n",
      "max length: 630\n"
     ]
    }
   ],
   "source": [
    "seq_lens = [len(s) for s in sequences]\n",
    "print(\"average length: %0.1f\" % np.mean(seq_lens))\n",
    "print(\"max length: %d\" % max(seq_lens))"
   ]
  },
  {
   "cell_type": "code",
   "execution_count": 249,
   "metadata": {},
   "outputs": [
    {
     "data": {
      "image/png": "[encoded data removed]",
      "text/plain": [
       "<Figure size 432x288 with 1 Axes>"
      ]
     },
     "metadata": {},
     "output_type": "display_data"
    }
   ],
   "source": [
    "plt.hist([l for l in seq_lens if l < 3000], bins=50);"
   ]
  },
  {
   "cell_type": "markdown",
   "metadata": {},
   "source": [
    "#### Considering our result, we will use a maximum sequence length of 200 of ReviewText variable and 10 for summary "
   ]
  },
  {
   "cell_type": "code",
   "execution_count": 253,
   "metadata": {},
   "outputs": [
    {
     "name": "stdout",
     "output_type": "stream",
     "text": [
      "Shape of data tensor: (14834, 100)\n",
      "Shape of data test tensor: (9890, 100)\n"
     ]
    }
   ],
   "source": [
    "from keras.preprocessing.sequence import pad_sequences\n",
    "\n",
    "MAX_SEQUENCE_LENGTH = 100\n",
    "\n",
    "# pad sequences with 0s\n",
    "X_train = pad_sequences(sequences, maxlen=MAX_SEQUENCE_LENGTH)\n",
    "X_test = pad_sequences(sequences_test, maxlen=MAX_SEQUENCE_LENGTH)\n",
    "print('Shape of data tensor:', X_train.shape)\n",
    "print('Shape of data test tensor:', X_test.shape)"
   ]
  },
  {
   "cell_type": "code",
   "execution_count": 254,
   "metadata": {},
   "outputs": [
    {
     "data": {
      "text/plain": [
       "3"
      ]
     },
     "execution_count": 254,
     "metadata": {},
     "output_type": "execute_result"
    }
   ],
   "source": [
    "# We verify we have the correct distinct number of labels\n",
    "data_sample['label_int'].nunique()"
   ]
  },
  {
   "cell_type": "code",
   "execution_count": 255,
   "metadata": {},
   "outputs": [
    {
     "name": "stdout",
     "output_type": "stream",
     "text": [
      "Shape of label tensor: (14834, 3)\n"
     ]
    }
   ],
   "source": [
    "# Convert the label \n",
    "from keras.utils.np_utils import to_categorical\n",
    "\n",
    "y_train = to_categorical(np.asarray(y_train_raw))\n",
    "print('Shape of label tensor:', y_train.shape)"
   ]
  },
  {
   "cell_type": "markdown",
   "metadata": {},
   "source": [
    "### b. Simple CBOW model in Keras "
   ]
  },
  {
   "cell_type": "markdown",
   "metadata": {},
   "source": [
    "#### A simple supervised CBOW model in Keras\n",
    "\n",
    "The following computes a supervised CBoW model which considers the context of words as a Continuous Bag-of-Words. Therefore, we don't take into account the order of the words. \n",
    "\n",
    "<img src=\"images/fasttext.svg\" style=\"width: 500px;\" />\n",
    "\n",
    "- $\\textbf{Step 1 }: $ Build an embedding layer mapping each word to a vector representation\n",
    "- $\\textbf{Step 2 }: $ Compute the vector representation of all words in each sequence and average them\n",
    "- $\\textbf{Step 3 }: $ Add a dense layer to output 3 classes (+ softmax)"
   ]
  },
  {
   "cell_type": "code",
   "execution_count": 146,
   "metadata": {},
   "outputs": [],
   "source": [
    "from keras.layers import Dense, Input, Flatten\n",
    "from keras.layers import GlobalAveragePooling1D, Embedding\n",
    "from keras.models import Model\n",
    "\n",
    "EMBEDDING_DIM = 50\n",
    "N_CLASSES = data_sample['label_int'].nunique() #Nb of classes \n",
    "\n",
    "# input: a sequence of MAX_SEQUENCE_LENGTH integers\n",
    "sequence_input = Input(shape=(MAX_SEQUENCE_LENGTH,), dtype='int32')\n",
    "\n",
    "embedding_layer = Embedding(MAX_NB_WORDS, EMBEDDING_DIM,\n",
    "                            input_length=MAX_SEQUENCE_LENGTH,\n",
    "                            trainable=True)\n",
    "embedded_sequences = embedding_layer(sequence_input)\n",
    "\n",
    "average = GlobalAveragePooling1D()(embedded_sequences)\n",
    "predictions = Dense(N_CLASSES, activation='softmax')(average)\n",
    "\n",
    "model = Model(sequence_input, predictions)\n",
    "model.compile(loss='categorical_crossentropy',\n",
    "              optimizer='adam', metrics=['acc'])"
   ]
  },
  {
   "cell_type": "code",
   "execution_count": 147,
   "metadata": {},
   "outputs": [
    {
     "name": "stdout",
     "output_type": "stream",
     "text": [
      "Train on 13350 samples, validate on 1484 samples\n",
      "Epoch 1/10\n",
      " - 4s - loss: 0.8734 - acc: 0.7407 - val_loss: 0.7133 - val_acc: 0.7574\n",
      "Epoch 2/10\n",
      " - 3s - loss: 0.6888 - acc: 0.7616 - val_loss: 0.6904 - val_acc: 0.7574\n",
      "Epoch 3/10\n",
      " - 3s - loss: 0.6684 - acc: 0.7616 - val_loss: 0.6735 - val_acc: 0.7574\n",
      "Epoch 4/10\n",
      " - 3s - loss: 0.6445 - acc: 0.7618 - val_loss: 0.6501 - val_acc: 0.7574\n",
      "Epoch 5/10\n",
      " - 3s - loss: 0.6119 - acc: 0.7620 - val_loss: 0.6201 - val_acc: 0.7574\n",
      "Epoch 6/10\n",
      " - 3s - loss: 0.5716 - acc: 0.7627 - val_loss: 0.5878 - val_acc: 0.7574\n",
      "Epoch 7/10\n",
      " - 3s - loss: 0.5294 - acc: 0.7661 - val_loss: 0.5581 - val_acc: 0.7588\n",
      "Epoch 8/10\n",
      " - 3s - loss: 0.4913 - acc: 0.8000 - val_loss: 0.5348 - val_acc: 0.7951\n",
      "Epoch 9/10\n",
      " - 4s - loss: 0.4590 - acc: 0.8345 - val_loss: 0.5177 - val_acc: 0.8147\n",
      "Epoch 10/10\n",
      " - 3s - loss: 0.4320 - acc: 0.8469 - val_loss: 0.5047 - val_acc: 0.8228\n"
     ]
    },
    {
     "data": {
      "text/plain": [
       "<keras.callbacks.callbacks.History at 0x1969f4898>"
      ]
     },
     "execution_count": 147,
     "metadata": {},
     "output_type": "execute_result"
    }
   ],
   "source": [
    "model.fit(X_train, y_train, validation_split=0.1, nb_epoch=10, batch_size=128, verbose=2)"
   ]
  },
  {
   "cell_type": "code",
   "execution_count": 148,
   "metadata": {},
   "outputs": [
    {
     "name": "stdout",
     "output_type": "stream",
     "text": [
      "test accuracy: 0.8337714863498483\n"
     ]
    }
   ],
   "source": [
    "## We get the accuracy on the test set\n",
    "output_test = model.predict(X_test)\n",
    "test_casses = np.argmax(output_test, axis=-1)\n",
    "print(\"test accuracy:\", np.mean(test_casses == y_test_raw))"
   ]
  },
  {
   "cell_type": "markdown",
   "metadata": {},
   "source": [
    "**Conclusion** : this model is quite efficient (in term of speed and accuracy) on our dataset, although it still takes a lot of time when running the entire dataset"
   ]
  },
  {
   "cell_type": "markdown",
   "metadata": {},
   "source": [
    "### c. Deeper CBOW model "
   ]
  },
  {
   "cell_type": "markdown",
   "metadata": {},
   "source": [
    "This time, we will add depth in our algorithm by adding 1d convolution and 1d maxpooling."
   ]
  },
  {
   "cell_type": "code",
   "execution_count": 165,
   "metadata": {
    "scrolled": false
   },
   "outputs": [],
   "source": [
    "from keras.layers import Conv1D, MaxPooling1D, Flatten\n",
    "\n",
    "sequence_input = Input(shape=(MAX_SEQUENCE_LENGTH,), dtype='int32')\n",
    "embedded_sequences = embedding_layer(sequence_input)\n",
    "\n",
    "## A 1D convolution with 128 output channels\n",
    "x = Conv1D(128, 5, activation='relu')(embedded_sequences)\n",
    "# MaxPool divides the length of the sequence by 5\n",
    "x = MaxPooling1D(5)(x)\n",
    "\n",
    "## A 1D convolution with 64 output channels\n",
    "\n",
    "#x = Conv1D(64, 5, activation='relu')(x) # for Reviewtest\n",
    "x = Conv1D(64, 2, activation='relu')(x) # For Summary \n",
    "\n",
    "\n",
    "## MaxPool divides the length of the sequence by 5 (or 2 if summary)\n",
    "# x = MaxPooling1D(5)(x) # For Review\n",
    "x = MaxPooling1D(2)(x) # For Summary\n",
    "\n",
    "x = Flatten()(x)\n",
    "\n",
    "predictions = Dense(N_CLASSES, activation='softmax')(x)\n",
    "\n",
    "model = Model(sequence_input, predictions)\n",
    "model.compile(loss='categorical_crossentropy',\n",
    "              optimizer='adam',\n",
    "              metrics=['acc'])\n"
   ]
  },
  {
   "cell_type": "code",
   "execution_count": 156,
   "metadata": {},
   "outputs": [
    {
     "name": "stdout",
     "output_type": "stream",
     "text": [
      "Train on 13350 samples, validate on 1484 samples\n",
      "Epoch 1/10\n",
      " - 6s - loss: 0.4290 - acc: 0.8470 - val_loss: 0.5072 - val_acc: 0.8174\n",
      "Epoch 2/10\n",
      " - 5s - loss: 0.3306 - acc: 0.8799 - val_loss: 0.5296 - val_acc: 0.8201\n",
      "Epoch 3/10\n",
      " - 5s - loss: 0.3072 - acc: 0.8903 - val_loss: 0.5570 - val_acc: 0.8160\n",
      "Epoch 4/10\n",
      " - 5s - loss: 0.2932 - acc: 0.8972 - val_loss: 0.5701 - val_acc: 0.8113\n",
      "Epoch 5/10\n",
      " - 5s - loss: 0.2773 - acc: 0.9006 - val_loss: 0.6109 - val_acc: 0.8154\n",
      "Epoch 6/10\n",
      " - 5s - loss: 0.2653 - acc: 0.9067 - val_loss: 0.6259 - val_acc: 0.8073\n",
      "Epoch 7/10\n",
      " - 5s - loss: 0.2526 - acc: 0.9108 - val_loss: 0.6603 - val_acc: 0.8127\n",
      "Epoch 8/10\n",
      " - 5s - loss: 0.2405 - acc: 0.9156 - val_loss: 0.7050 - val_acc: 0.8053\n",
      "Epoch 9/10\n",
      " - 7s - loss: 0.2303 - acc: 0.9188 - val_loss: 0.7467 - val_acc: 0.8005\n",
      "Epoch 10/10\n",
      " - 5s - loss: 0.2244 - acc: 0.9210 - val_loss: 0.7994 - val_acc: 0.8012\n"
     ]
    },
    {
     "data": {
      "text/plain": [
       "<keras.callbacks.callbacks.History at 0x121fbcc18>"
      ]
     },
     "execution_count": 156,
     "metadata": {},
     "output_type": "execute_result"
    }
   ],
   "source": [
    "model.fit(X_train, y_train, validation_split=0.1, nb_epoch=10, batch_size=128, verbose=2)"
   ]
  },
  {
   "cell_type": "code",
   "execution_count": 157,
   "metadata": {},
   "outputs": [
    {
     "name": "stdout",
     "output_type": "stream",
     "text": [
      "test accuracy: 0.8151668351870577\n"
     ]
    }
   ],
   "source": [
    "## We get the accuracy on the test set\n",
    "output_test = model.predict(X_test)\n",
    "test_casses = np.argmax(output_test, axis=-1)\n",
    "print(\"test accuracy:\", np.mean(test_casses == y_test_raw))"
   ]
  },
  {
   "cell_type": "markdown",
   "metadata": {},
   "source": [
    "**Conclusion:** We can see that increasing depth don't really help us to perform better in our model. "
   ]
  },
  {
   "cell_type": "markdown",
   "metadata": {},
   "source": [
    "### d. Adding an LSTM layer "
   ]
  },
  {
   "cell_type": "markdown",
   "metadata": {},
   "source": [
    "In this mode, we will add an LSTM layer, before our dense layer with a softmax classification function. \n",
    "\n",
    "Indeed, sentiment analysis is very dependant on the word order (eg : in \"I don't hate it, we must be careful of the order of the words), so LSTM might improve our performances in our sentiment classification."
   ]
  },
  {
   "cell_type": "code",
   "execution_count": 167,
   "metadata": {},
   "outputs": [],
   "source": [
    "from keras.layers import LSTM, Conv1D, MaxPooling1D\n",
    "\n",
    "# input: a sequence of MAX_SEQUENCE_LENGTH integers\n",
    "sequence_input = Input(shape=(MAX_SEQUENCE_LENGTH,), dtype='int32')\n",
    "embedded_sequences = embedding_layer(sequence_input)\n",
    "\n",
    "# 1D convolution with 64 output channels\n",
    "x = Conv1D(64, 5)(embedded_sequences)\n",
    "# MaxPool divides the length of the sequence by 5\n",
    "x = MaxPooling1D(5)(x)\n",
    "\n",
    "#x = Conv1D(64, 5)(x) # for ReviewText\n",
    "x = Conv1D(64, 2)(x) # for summary\n",
    "\n",
    "#x = MaxPooling1D(5)(x) # For ReviewText\n",
    "x = MaxPooling1D(2)(x) # For Summary \n",
    "\n",
    "# LSTM layer with a hidden size of 64\n",
    "x = LSTM(64)(x)\n",
    "predictions = Dense(N_CLASSES, activation='softmax')(x)\n",
    "\n",
    "model = Model(sequence_input, predictions)\n",
    "model.compile(loss='categorical_crossentropy',\n",
    "              optimizer='adam',\n",
    "              metrics=['acc'])\n",
    "\n",
    "# You will get large speedups with these models by using a GPU\n",
    "# The model might take a lot of time to converge, and even more\n",
    "# if you add dropout (needed to prevent overfitting)"
   ]
  },
  {
   "cell_type": "code",
   "execution_count": 171,
   "metadata": {},
   "outputs": [
    {
     "name": "stdout",
     "output_type": "stream",
     "text": [
      "Train on 13350 samples, validate on 1484 samples\n",
      "Epoch 1/10\n",
      " - 6s - loss: 0.2012 - acc: 0.9277 - val_loss: 0.9378 - val_acc: 0.7972\n",
      "Epoch 2/10\n",
      " - 6s - loss: 0.1994 - acc: 0.9280 - val_loss: 0.9366 - val_acc: 0.7951\n",
      "Epoch 3/10\n",
      " - 6s - loss: 0.1976 - acc: 0.9297 - val_loss: 0.9427 - val_acc: 0.8012\n",
      "Epoch 4/10\n",
      " - 6s - loss: 0.1965 - acc: 0.9288 - val_loss: 0.9640 - val_acc: 0.8059\n",
      "Epoch 5/10\n",
      " - 6s - loss: 0.1983 - acc: 0.9291 - val_loss: 0.9841 - val_acc: 0.7938\n",
      "Epoch 6/10\n",
      " - 6s - loss: 0.1960 - acc: 0.9294 - val_loss: 0.9809 - val_acc: 0.7938\n",
      "Epoch 7/10\n",
      " - 6s - loss: 0.1925 - acc: 0.9303 - val_loss: 1.0204 - val_acc: 0.7918\n",
      "Epoch 8/10\n",
      " - 6s - loss: 0.1910 - acc: 0.9311 - val_loss: 1.0308 - val_acc: 0.7951\n",
      "Epoch 9/10\n",
      " - 6s - loss: 0.1889 - acc: 0.9313 - val_loss: 1.0869 - val_acc: 0.7972\n",
      "Epoch 10/10\n",
      " - 6s - loss: 0.1894 - acc: 0.9316 - val_loss: 1.0345 - val_acc: 0.7972\n"
     ]
    },
    {
     "data": {
      "text/plain": [
       "<keras.callbacks.callbacks.History at 0x1226aab38>"
      ]
     },
     "execution_count": 171,
     "metadata": {},
     "output_type": "execute_result"
    }
   ],
   "source": [
    "model.fit(X_train, y_train, validation_split=0.1, nb_epoch=10, batch_size=128, verbose=2)"
   ]
  },
  {
   "cell_type": "code",
   "execution_count": 169,
   "metadata": {},
   "outputs": [
    {
     "name": "stdout",
     "output_type": "stream",
     "text": [
      "test accuracy: 0.8089989888776542\n"
     ]
    }
   ],
   "source": [
    "## We get the accuracy on the test set\n",
    "output_test = model.predict(X_test)\n",
    "test_casses = np.argmax(output_test, axis=-1)\n",
    "print(\"test accuracy:\", np.mean(test_casses == y_test_raw))"
   ]
  },
  {
   "cell_type": "markdown",
   "metadata": {},
   "source": [
    "## e. Pre-trained embedding "
   ]
  },
  {
   "cell_type": "markdown",
   "metadata": {},
   "source": [
    "### Loading \n",
    " \n",
    "The file `glove.6B.50d.txt` is an extract of [Glove](http://nlp.stanford.edu/projects/glove/) Vectors, that were trained on english Wikipedia 2014 + Gigaword 5 (6B tokens).\n",
    "\n",
    "We extracted the `400 000` most frequent words. They have a dimension of `50`"
   ]
  },
  {
   "cell_type": "code",
   "execution_count": 204,
   "metadata": {},
   "outputs": [
    {
     "data": {
      "text/plain": [
       "['glove.6B.50d.txt',\n",
       " 'glove.6B.100d.txt',\n",
       " 'glove.6B.200d.txt',\n",
       " 'glove.6B.300d.txt']"
      ]
     },
     "execution_count": 204,
     "metadata": {},
     "output_type": "execute_result"
    }
   ],
   "source": [
    "import zipfile\n",
    "archive = zipfile.ZipFile('glove.6B.zip', 'r')\n",
    "f = archive.open('glove.6B.50d.txt')\n",
    "archive.namelist()"
   ]
  },
  {
   "cell_type": "code",
   "execution_count": 205,
   "metadata": {},
   "outputs": [
    {
     "name": "stdout",
     "output_type": "stream",
     "text": [
      "found 400000 different words in the file\n"
     ]
    }
   ],
   "source": [
    "embeddings_index = {}\n",
    "embeddings_vectors = []\n",
    "\n",
    "word_idx = 0\n",
    "for line in f:\n",
    "    values = line.decode('utf-8').split()\n",
    "    word = values[0]\n",
    "    vector = np.asarray(values[1:], dtype='float32')\n",
    "    embeddings_index[word] = word_idx\n",
    "    embeddings_vectors.append(vector)\n",
    "    word_idx = word_idx + 1\n",
    "f.close()\n",
    "\n",
    "inv_index = {v: k for k, v in embeddings_index.items()}\n",
    "print(\"found %d different words in the file\" % word_idx)"
   ]
  },
  {
   "cell_type": "code",
   "execution_count": 206,
   "metadata": {},
   "outputs": [
    {
     "name": "stdout",
     "output_type": "stream",
     "text": [
      "(400000, 50)\n"
     ]
    }
   ],
   "source": [
    "# We stack all embeddings in a large numpy array\n",
    "glove_embeddings = np.vstack(embeddings_vectors)\n",
    "glove_norms = np.linalg.norm(glove_embeddings, axis=-1, keepdims=True)\n",
    "glove_embeddings_normed = glove_embeddings / glove_norms\n",
    "print(glove_embeddings.shape)\n"
   ]
  },
  {
   "cell_type": "code",
   "execution_count": 207,
   "metadata": {},
   "outputs": [],
   "source": [
    "def get_emb(word):\n",
    "    idx = embeddings_index.get(word)\n",
    "    if idx is None:\n",
    "        return None\n",
    "    else:\n",
    "        return glove_embeddings[idx]"
   ]
  },
  {
   "cell_type": "markdown",
   "metadata": {},
   "source": [
    "### Preparing the model"
   ]
  },
  {
   "cell_type": "markdown",
   "metadata": {},
   "source": [
    "We want to use these pre-trained embeddings for transfer learning. This process is rather similar than transfer learning in image recognition: the features learnt on words might help us bootstrap the learning process, and increase performance if we don't have enough training data.\n",
    "- We initialize embedding matrix from the model with Glove embeddings:\n",
    " - take all words from our vocabulary (`MAX_NB_WORDS = 20000`), and look up their Glove embedding \n",
    " - place the Glove embedding at the corresponding index in the matrix\n",
    " - if the word is not in the Glove vocabulary, we only place zeros in the matrix\n"
   ]
  },
  {
   "cell_type": "code",
   "execution_count": 256,
   "metadata": {},
   "outputs": [
    {
     "name": "stdout",
     "output_type": "stream",
     "text": [
      "added 12113 words in the embedding matrix\n"
     ]
    }
   ],
   "source": [
    "EMBEDDING_DIM = 50\n",
    "\n",
    "# prepare embedding matrix\n",
    "nb_words_in_matrix = 0\n",
    "nb_words = min(MAX_NB_WORDS, len(word_index))\n",
    "embedding_matrix = np.zeros((nb_words, EMBEDDING_DIM))\n",
    "for word, i in word_index.items():\n",
    "    if i >= MAX_NB_WORDS:\n",
    "        continue\n",
    "    embedding_vector = get_emb(word)\n",
    "    if embedding_vector is not None:\n",
    "        # words not found in embedding index will be all-zeros.\n",
    "        embedding_matrix[i-1] = embedding_vector\n",
    "        nb_words_in_matrix = nb_words_in_matrix + 1\n",
    "        \n",
    "print(\"Added %d words in the embedding matrix\" % nb_words_in_matrix)"
   ]
  },
  {
   "cell_type": "code",
   "execution_count": 259,
   "metadata": {},
   "outputs": [],
   "source": [
    "# We build the layer with the pre-trained embeddings\n",
    "pretrained_embedding_layer = Embedding(\n",
    "    MAX_NB_WORDS, EMBEDDING_DIM,\n",
    "    weights=[embedding_matrix],\n",
    "    input_length=MAX_SEQUENCE_LENGTH,\n",
    ")"
   ]
  },
  {
   "cell_type": "markdown",
   "metadata": {},
   "source": [
    "### Let's run it "
   ]
  },
  {
   "cell_type": "code",
   "execution_count": 262,
   "metadata": {},
   "outputs": [],
   "source": [
    "sequence_input = Input(shape=(MAX_SEQUENCE_LENGTH,), dtype='int32')\n",
    "embedded_sequences = pretrained_embedding_layer(sequence_input)\n",
    "average = GlobalAveragePooling1D()(embedded_sequences)\n",
    "predictions = Dense(N_CLASSES, activation='softmax')(average)\n",
    "\n",
    "model = Model(sequence_input, predictions)\n",
    "\n",
    "# We don't fine-tune embeddings\n",
    "model.layers[1].trainable=False\n",
    "\n",
    "model.compile(loss='categorical_crossentropy',\n",
    "              optimizer='adam', metrics=['acc'])"
   ]
  },
  {
   "cell_type": "code",
   "execution_count": 264,
   "metadata": {},
   "outputs": [
    {
     "name": "stdout",
     "output_type": "stream",
     "text": [
      "Train on 13350 samples, validate on 1484 samples\n",
      "Epoch 1/10\n",
      " - 1s - loss: 1.0238 - acc: 0.6867 - val_loss: 0.9427 - val_acc: 0.7574\n",
      "Epoch 2/10\n",
      " - 0s - loss: 0.8836 - acc: 0.7616 - val_loss: 0.8340 - val_acc: 0.7574\n",
      "Epoch 3/10\n",
      " - 0s - loss: 0.7986 - acc: 0.7616 - val_loss: 0.7711 - val_acc: 0.7574\n",
      "Epoch 4/10\n",
      " - 0s - loss: 0.7512 - acc: 0.7616 - val_loss: 0.7374 - val_acc: 0.7574\n",
      "Epoch 5/10\n",
      " - 0s - loss: 0.7264 - acc: 0.7616 - val_loss: 0.7204 - val_acc: 0.7574\n",
      "Epoch 6/10\n",
      " - 0s - loss: 0.7141 - acc: 0.7616 - val_loss: 0.7119 - val_acc: 0.7574\n",
      "Epoch 7/10\n",
      " - 0s - loss: 0.7083 - acc: 0.7616 - val_loss: 0.7082 - val_acc: 0.7574\n",
      "Epoch 8/10\n",
      " - 0s - loss: 0.7057 - acc: 0.7616 - val_loss: 0.7065 - val_acc: 0.7574\n",
      "Epoch 9/10\n",
      " - 0s - loss: 0.7045 - acc: 0.7616 - val_loss: 0.7058 - val_acc: 0.7574\n",
      "Epoch 10/10\n",
      " - 0s - loss: 0.7040 - acc: 0.7616 - val_loss: 0.7055 - val_acc: 0.7574\n"
     ]
    },
    {
     "data": {
      "text/plain": [
       "<keras.callbacks.callbacks.History at 0x127fa3e48>"
      ]
     },
     "execution_count": 264,
     "metadata": {},
     "output_type": "execute_result"
    }
   ],
   "source": [
    "model.fit(X_train, y_train, validation_split=0.1,nb_epoch=10, batch_size=128, verbose=2)"
   ]
  },
  {
   "cell_type": "code",
   "execution_count": 265,
   "metadata": {},
   "outputs": [
    {
     "name": "stdout",
     "output_type": "stream",
     "text": [
      "test accuracy: 0.7649140546006067\n"
     ]
    }
   ],
   "source": [
    "## We get the accuracy on the test set\n",
    "output_test = model.predict(X_test)\n",
    "test_casses = np.argmax(output_test, axis=-1)\n",
    "print(\"test accuracy:\", np.mean(test_casses == y_test_raw))"
   ]
  },
  {
   "cell_type": "markdown",
   "metadata": {},
   "source": [
    "**Conclusion:** We have notive that even if our performances (in term of accuracy) don't increase, we have less overfitting than in our previous models. "
   ]
  }
 ],
 "metadata": {
  "colab": {
   "collapsed_sections": [
    "qcPg-ks0Q8FU",
    "PfpuzIhwQ8Fe",
    "gtr8yweBQ8F1",
    "eZul5rcJQ8F-",
    "e8-pGIz7Q8GS",
    "o2k1X65F3AqS",
    "HKGKCvOYQ8Ge",
    "cDmTmsTcOodT"
   ],
   "name": "NLP_project.ipynb",
   "provenance": [],
   "toc_visible": true
  },
  "kernelspec": {
   "display_name": "Python 3",
   "language": "python",
   "name": "python3"
  },
  "language_info": {
   "codemirror_mode": {
    "name": "ipython",
    "version": 3
   },
   "file_extension": ".py",
   "mimetype": "text/x-python",
   "name": "python",
   "nbconvert_exporter": "python",
   "pygments_lexer": "ipython3",
   "version": "3.6.10"
  }
 },
 "nbformat": 4,
 "nbformat_minor": 1
}
